{
 "cells": [
  {
   "cell_type": "markdown",
   "metadata": {},
   "source": [
    "# Data Retrieval:"
   ]
  },
  {
   "cell_type": "code",
   "execution_count": 1,
   "metadata": {},
   "outputs": [],
   "source": [
    "data = 'datatraining.txt'"
   ]
  },
  {
   "cell_type": "code",
   "execution_count": 2,
   "metadata": {},
   "outputs": [],
   "source": [
    "import pandas as pd"
   ]
  },
  {
   "cell_type": "code",
   "execution_count": 43,
   "metadata": {},
   "outputs": [],
   "source": [
    "import seaborn as sns\n",
    "sns.set(rc={'figure.figsize':(16, 4)})"
   ]
  },
  {
   "cell_type": "code",
   "execution_count": 4,
   "metadata": {},
   "outputs": [
    {
     "data": {
      "text/html": [
       "<div>\n",
       "<style scoped>\n",
       "    .dataframe tbody tr th:only-of-type {\n",
       "        vertical-align: middle;\n",
       "    }\n",
       "\n",
       "    .dataframe tbody tr th {\n",
       "        vertical-align: top;\n",
       "    }\n",
       "\n",
       "    .dataframe thead th {\n",
       "        text-align: right;\n",
       "    }\n",
       "</style>\n",
       "<table border=\"1\" class=\"dataframe\">\n",
       "  <thead>\n",
       "    <tr style=\"text-align: right;\">\n",
       "      <th></th>\n",
       "      <th>date</th>\n",
       "      <th>Temperature</th>\n",
       "      <th>Humidity</th>\n",
       "      <th>Light</th>\n",
       "      <th>CO2</th>\n",
       "      <th>HumidityRatio</th>\n",
       "      <th>Occupancy</th>\n",
       "    </tr>\n",
       "  </thead>\n",
       "  <tbody>\n",
       "    <tr>\n",
       "      <th>1</th>\n",
       "      <td>2015-02-04 17:51:00</td>\n",
       "      <td>23.180000</td>\n",
       "      <td>27.272000</td>\n",
       "      <td>426.0</td>\n",
       "      <td>721.250000</td>\n",
       "      <td>0.004793</td>\n",
       "      <td>1</td>\n",
       "    </tr>\n",
       "    <tr>\n",
       "      <th>2</th>\n",
       "      <td>2015-02-04 17:51:59</td>\n",
       "      <td>23.150000</td>\n",
       "      <td>27.267500</td>\n",
       "      <td>429.5</td>\n",
       "      <td>714.000000</td>\n",
       "      <td>0.004783</td>\n",
       "      <td>1</td>\n",
       "    </tr>\n",
       "    <tr>\n",
       "      <th>3</th>\n",
       "      <td>2015-02-04 17:53:00</td>\n",
       "      <td>23.150000</td>\n",
       "      <td>27.245000</td>\n",
       "      <td>426.0</td>\n",
       "      <td>713.500000</td>\n",
       "      <td>0.004779</td>\n",
       "      <td>1</td>\n",
       "    </tr>\n",
       "    <tr>\n",
       "      <th>4</th>\n",
       "      <td>2015-02-04 17:54:00</td>\n",
       "      <td>23.150000</td>\n",
       "      <td>27.200000</td>\n",
       "      <td>426.0</td>\n",
       "      <td>708.250000</td>\n",
       "      <td>0.004772</td>\n",
       "      <td>1</td>\n",
       "    </tr>\n",
       "    <tr>\n",
       "      <th>5</th>\n",
       "      <td>2015-02-04 17:55:00</td>\n",
       "      <td>23.100000</td>\n",
       "      <td>27.200000</td>\n",
       "      <td>426.0</td>\n",
       "      <td>704.500000</td>\n",
       "      <td>0.004757</td>\n",
       "      <td>1</td>\n",
       "    </tr>\n",
       "    <tr>\n",
       "      <th>6</th>\n",
       "      <td>2015-02-04 17:55:59</td>\n",
       "      <td>23.100000</td>\n",
       "      <td>27.200000</td>\n",
       "      <td>419.0</td>\n",
       "      <td>701.000000</td>\n",
       "      <td>0.004757</td>\n",
       "      <td>1</td>\n",
       "    </tr>\n",
       "    <tr>\n",
       "      <th>7</th>\n",
       "      <td>2015-02-04 17:57:00</td>\n",
       "      <td>23.100000</td>\n",
       "      <td>27.200000</td>\n",
       "      <td>419.0</td>\n",
       "      <td>701.666667</td>\n",
       "      <td>0.004757</td>\n",
       "      <td>1</td>\n",
       "    </tr>\n",
       "    <tr>\n",
       "      <th>8</th>\n",
       "      <td>2015-02-04 17:57:59</td>\n",
       "      <td>23.100000</td>\n",
       "      <td>27.200000</td>\n",
       "      <td>419.0</td>\n",
       "      <td>699.000000</td>\n",
       "      <td>0.004757</td>\n",
       "      <td>1</td>\n",
       "    </tr>\n",
       "    <tr>\n",
       "      <th>9</th>\n",
       "      <td>2015-02-04 17:58:59</td>\n",
       "      <td>23.100000</td>\n",
       "      <td>27.200000</td>\n",
       "      <td>419.0</td>\n",
       "      <td>689.333333</td>\n",
       "      <td>0.004757</td>\n",
       "      <td>1</td>\n",
       "    </tr>\n",
       "    <tr>\n",
       "      <th>10</th>\n",
       "      <td>2015-02-04 18:00:00</td>\n",
       "      <td>23.075000</td>\n",
       "      <td>27.175000</td>\n",
       "      <td>419.0</td>\n",
       "      <td>688.000000</td>\n",
       "      <td>0.004745</td>\n",
       "      <td>1</td>\n",
       "    </tr>\n",
       "    <tr>\n",
       "      <th>11</th>\n",
       "      <td>2015-02-04 18:01:00</td>\n",
       "      <td>23.075000</td>\n",
       "      <td>27.150000</td>\n",
       "      <td>419.0</td>\n",
       "      <td>690.250000</td>\n",
       "      <td>0.004741</td>\n",
       "      <td>1</td>\n",
       "    </tr>\n",
       "    <tr>\n",
       "      <th>12</th>\n",
       "      <td>2015-02-04 18:02:00</td>\n",
       "      <td>23.100000</td>\n",
       "      <td>27.100000</td>\n",
       "      <td>419.0</td>\n",
       "      <td>691.000000</td>\n",
       "      <td>0.004739</td>\n",
       "      <td>1</td>\n",
       "    </tr>\n",
       "    <tr>\n",
       "      <th>13</th>\n",
       "      <td>2015-02-04 18:03:00</td>\n",
       "      <td>23.100000</td>\n",
       "      <td>27.166667</td>\n",
       "      <td>419.0</td>\n",
       "      <td>683.500000</td>\n",
       "      <td>0.004751</td>\n",
       "      <td>1</td>\n",
       "    </tr>\n",
       "    <tr>\n",
       "      <th>14</th>\n",
       "      <td>2015-02-04 18:04:00</td>\n",
       "      <td>23.050000</td>\n",
       "      <td>27.150000</td>\n",
       "      <td>419.0</td>\n",
       "      <td>687.500000</td>\n",
       "      <td>0.004734</td>\n",
       "      <td>1</td>\n",
       "    </tr>\n",
       "    <tr>\n",
       "      <th>15</th>\n",
       "      <td>2015-02-04 18:04:59</td>\n",
       "      <td>23.000000</td>\n",
       "      <td>27.125000</td>\n",
       "      <td>419.0</td>\n",
       "      <td>686.000000</td>\n",
       "      <td>0.004715</td>\n",
       "      <td>1</td>\n",
       "    </tr>\n",
       "    <tr>\n",
       "      <th>16</th>\n",
       "      <td>2015-02-04 18:06:00</td>\n",
       "      <td>23.000000</td>\n",
       "      <td>27.125000</td>\n",
       "      <td>418.5</td>\n",
       "      <td>680.500000</td>\n",
       "      <td>0.004715</td>\n",
       "      <td>1</td>\n",
       "    </tr>\n",
       "    <tr>\n",
       "      <th>17</th>\n",
       "      <td>2015-02-04 18:07:00</td>\n",
       "      <td>23.000000</td>\n",
       "      <td>27.200000</td>\n",
       "      <td>0.0</td>\n",
       "      <td>681.500000</td>\n",
       "      <td>0.004728</td>\n",
       "      <td>0</td>\n",
       "    </tr>\n",
       "    <tr>\n",
       "      <th>18</th>\n",
       "      <td>2015-02-04 18:08:00</td>\n",
       "      <td>22.945000</td>\n",
       "      <td>27.290000</td>\n",
       "      <td>0.0</td>\n",
       "      <td>685.000000</td>\n",
       "      <td>0.004728</td>\n",
       "      <td>0</td>\n",
       "    </tr>\n",
       "    <tr>\n",
       "      <th>19</th>\n",
       "      <td>2015-02-04 18:08:59</td>\n",
       "      <td>22.945000</td>\n",
       "      <td>27.390000</td>\n",
       "      <td>0.0</td>\n",
       "      <td>685.000000</td>\n",
       "      <td>0.004745</td>\n",
       "      <td>0</td>\n",
       "    </tr>\n",
       "    <tr>\n",
       "      <th>20</th>\n",
       "      <td>2015-02-04 18:10:00</td>\n",
       "      <td>22.890000</td>\n",
       "      <td>27.390000</td>\n",
       "      <td>0.0</td>\n",
       "      <td>689.000000</td>\n",
       "      <td>0.004730</td>\n",
       "      <td>0</td>\n",
       "    </tr>\n",
       "    <tr>\n",
       "      <th>21</th>\n",
       "      <td>2015-02-04 18:10:59</td>\n",
       "      <td>22.890000</td>\n",
       "      <td>27.390000</td>\n",
       "      <td>0.0</td>\n",
       "      <td>689.500000</td>\n",
       "      <td>0.004730</td>\n",
       "      <td>0</td>\n",
       "    </tr>\n",
       "    <tr>\n",
       "      <th>22</th>\n",
       "      <td>2015-02-04 18:11:59</td>\n",
       "      <td>22.890000</td>\n",
       "      <td>27.390000</td>\n",
       "      <td>0.0</td>\n",
       "      <td>689.000000</td>\n",
       "      <td>0.004730</td>\n",
       "      <td>0</td>\n",
       "    </tr>\n",
       "    <tr>\n",
       "      <th>23</th>\n",
       "      <td>2015-02-04 18:13:00</td>\n",
       "      <td>22.890000</td>\n",
       "      <td>27.445000</td>\n",
       "      <td>0.0</td>\n",
       "      <td>691.000000</td>\n",
       "      <td>0.004739</td>\n",
       "      <td>0</td>\n",
       "    </tr>\n",
       "    <tr>\n",
       "      <th>24</th>\n",
       "      <td>2015-02-04 18:14:00</td>\n",
       "      <td>22.890000</td>\n",
       "      <td>27.500000</td>\n",
       "      <td>0.0</td>\n",
       "      <td>688.000000</td>\n",
       "      <td>0.004749</td>\n",
       "      <td>0</td>\n",
       "    </tr>\n",
       "    <tr>\n",
       "      <th>25</th>\n",
       "      <td>2015-02-04 18:15:00</td>\n",
       "      <td>22.890000</td>\n",
       "      <td>27.500000</td>\n",
       "      <td>0.0</td>\n",
       "      <td>689.500000</td>\n",
       "      <td>0.004749</td>\n",
       "      <td>0</td>\n",
       "    </tr>\n",
       "    <tr>\n",
       "      <th>26</th>\n",
       "      <td>2015-02-04 18:16:00</td>\n",
       "      <td>22.790000</td>\n",
       "      <td>27.445000</td>\n",
       "      <td>0.0</td>\n",
       "      <td>689.000000</td>\n",
       "      <td>0.004710</td>\n",
       "      <td>0</td>\n",
       "    </tr>\n",
       "    <tr>\n",
       "      <th>27</th>\n",
       "      <td>2015-02-04 18:16:59</td>\n",
       "      <td>22.790000</td>\n",
       "      <td>27.500000</td>\n",
       "      <td>0.0</td>\n",
       "      <td>685.666667</td>\n",
       "      <td>0.004720</td>\n",
       "      <td>0</td>\n",
       "    </tr>\n",
       "    <tr>\n",
       "      <th>28</th>\n",
       "      <td>2015-02-04 18:17:59</td>\n",
       "      <td>22.790000</td>\n",
       "      <td>27.500000</td>\n",
       "      <td>0.0</td>\n",
       "      <td>687.000000</td>\n",
       "      <td>0.004720</td>\n",
       "      <td>0</td>\n",
       "    </tr>\n",
       "    <tr>\n",
       "      <th>29</th>\n",
       "      <td>2015-02-04 18:19:00</td>\n",
       "      <td>22.790000</td>\n",
       "      <td>27.500000</td>\n",
       "      <td>0.0</td>\n",
       "      <td>688.000000</td>\n",
       "      <td>0.004720</td>\n",
       "      <td>0</td>\n",
       "    </tr>\n",
       "    <tr>\n",
       "      <th>30</th>\n",
       "      <td>2015-02-04 18:20:00</td>\n",
       "      <td>22.745000</td>\n",
       "      <td>27.500000</td>\n",
       "      <td>0.0</td>\n",
       "      <td>670.000000</td>\n",
       "      <td>0.004707</td>\n",
       "      <td>0</td>\n",
       "    </tr>\n",
       "    <tr>\n",
       "      <th>...</th>\n",
       "      <td>...</td>\n",
       "      <td>...</td>\n",
       "      <td>...</td>\n",
       "      <td>...</td>\n",
       "      <td>...</td>\n",
       "      <td>...</td>\n",
       "      <td>...</td>\n",
       "    </tr>\n",
       "    <tr>\n",
       "      <th>8114</th>\n",
       "      <td>2015-02-10 09:04:00</td>\n",
       "      <td>20.700000</td>\n",
       "      <td>34.417500</td>\n",
       "      <td>419.0</td>\n",
       "      <td>568.750000</td>\n",
       "      <td>0.005203</td>\n",
       "      <td>1</td>\n",
       "    </tr>\n",
       "    <tr>\n",
       "      <th>8115</th>\n",
       "      <td>2015-02-10 09:04:59</td>\n",
       "      <td>20.700000</td>\n",
       "      <td>34.090000</td>\n",
       "      <td>419.0</td>\n",
       "      <td>556.666667</td>\n",
       "      <td>0.005153</td>\n",
       "      <td>1</td>\n",
       "    </tr>\n",
       "    <tr>\n",
       "      <th>8116</th>\n",
       "      <td>2015-02-10 09:06:00</td>\n",
       "      <td>20.700000</td>\n",
       "      <td>34.296667</td>\n",
       "      <td>419.0</td>\n",
       "      <td>548.000000</td>\n",
       "      <td>0.005184</td>\n",
       "      <td>1</td>\n",
       "    </tr>\n",
       "    <tr>\n",
       "      <th>8117</th>\n",
       "      <td>2015-02-10 09:07:00</td>\n",
       "      <td>20.730000</td>\n",
       "      <td>34.466667</td>\n",
       "      <td>419.0</td>\n",
       "      <td>563.333333</td>\n",
       "      <td>0.005220</td>\n",
       "      <td>1</td>\n",
       "    </tr>\n",
       "    <tr>\n",
       "      <th>8118</th>\n",
       "      <td>2015-02-10 09:08:00</td>\n",
       "      <td>20.745000</td>\n",
       "      <td>34.567500</td>\n",
       "      <td>426.0</td>\n",
       "      <td>593.750000</td>\n",
       "      <td>0.005240</td>\n",
       "      <td>1</td>\n",
       "    </tr>\n",
       "    <tr>\n",
       "      <th>8119</th>\n",
       "      <td>2015-02-10 09:08:59</td>\n",
       "      <td>20.767500</td>\n",
       "      <td>34.717500</td>\n",
       "      <td>422.5</td>\n",
       "      <td>600.750000</td>\n",
       "      <td>0.005270</td>\n",
       "      <td>1</td>\n",
       "    </tr>\n",
       "    <tr>\n",
       "      <th>8120</th>\n",
       "      <td>2015-02-10 09:10:00</td>\n",
       "      <td>20.790000</td>\n",
       "      <td>35.090000</td>\n",
       "      <td>426.0</td>\n",
       "      <td>623.000000</td>\n",
       "      <td>0.005335</td>\n",
       "      <td>1</td>\n",
       "    </tr>\n",
       "    <tr>\n",
       "      <th>8121</th>\n",
       "      <td>2015-02-10 09:10:59</td>\n",
       "      <td>20.790000</td>\n",
       "      <td>34.972500</td>\n",
       "      <td>433.0</td>\n",
       "      <td>631.000000</td>\n",
       "      <td>0.005317</td>\n",
       "      <td>1</td>\n",
       "    </tr>\n",
       "    <tr>\n",
       "      <th>8122</th>\n",
       "      <td>2015-02-10 09:11:59</td>\n",
       "      <td>20.790000</td>\n",
       "      <td>34.826667</td>\n",
       "      <td>433.0</td>\n",
       "      <td>636.000000</td>\n",
       "      <td>0.005295</td>\n",
       "      <td>1</td>\n",
       "    </tr>\n",
       "    <tr>\n",
       "      <th>8123</th>\n",
       "      <td>2015-02-10 09:13:00</td>\n",
       "      <td>20.840000</td>\n",
       "      <td>35.195000</td>\n",
       "      <td>433.0</td>\n",
       "      <td>636.750000</td>\n",
       "      <td>0.005368</td>\n",
       "      <td>1</td>\n",
       "    </tr>\n",
       "    <tr>\n",
       "      <th>8124</th>\n",
       "      <td>2015-02-10 09:14:00</td>\n",
       "      <td>20.890000</td>\n",
       "      <td>35.300000</td>\n",
       "      <td>433.0</td>\n",
       "      <td>663.000000</td>\n",
       "      <td>0.005401</td>\n",
       "      <td>1</td>\n",
       "    </tr>\n",
       "    <tr>\n",
       "      <th>8125</th>\n",
       "      <td>2015-02-10 09:15:00</td>\n",
       "      <td>20.856667</td>\n",
       "      <td>35.096667</td>\n",
       "      <td>433.0</td>\n",
       "      <td>665.333333</td>\n",
       "      <td>0.005358</td>\n",
       "      <td>1</td>\n",
       "    </tr>\n",
       "    <tr>\n",
       "      <th>8126</th>\n",
       "      <td>2015-02-10 09:16:00</td>\n",
       "      <td>20.890000</td>\n",
       "      <td>35.320000</td>\n",
       "      <td>433.0</td>\n",
       "      <td>669.500000</td>\n",
       "      <td>0.005404</td>\n",
       "      <td>1</td>\n",
       "    </tr>\n",
       "    <tr>\n",
       "      <th>8127</th>\n",
       "      <td>2015-02-10 09:16:59</td>\n",
       "      <td>20.917500</td>\n",
       "      <td>35.475000</td>\n",
       "      <td>433.0</td>\n",
       "      <td>679.250000</td>\n",
       "      <td>0.005437</td>\n",
       "      <td>1</td>\n",
       "    </tr>\n",
       "    <tr>\n",
       "      <th>8128</th>\n",
       "      <td>2015-02-10 09:17:59</td>\n",
       "      <td>20.890000</td>\n",
       "      <td>35.400000</td>\n",
       "      <td>433.0</td>\n",
       "      <td>684.666667</td>\n",
       "      <td>0.005416</td>\n",
       "      <td>1</td>\n",
       "    </tr>\n",
       "    <tr>\n",
       "      <th>8129</th>\n",
       "      <td>2015-02-10 09:19:00</td>\n",
       "      <td>20.917500</td>\n",
       "      <td>35.717500</td>\n",
       "      <td>433.0</td>\n",
       "      <td>706.250000</td>\n",
       "      <td>0.005474</td>\n",
       "      <td>1</td>\n",
       "    </tr>\n",
       "    <tr>\n",
       "      <th>8130</th>\n",
       "      <td>2015-02-10 09:20:00</td>\n",
       "      <td>20.958750</td>\n",
       "      <td>35.683750</td>\n",
       "      <td>433.0</td>\n",
       "      <td>712.625000</td>\n",
       "      <td>0.005483</td>\n",
       "      <td>1</td>\n",
       "    </tr>\n",
       "    <tr>\n",
       "      <th>8131</th>\n",
       "      <td>2015-02-10 09:21:00</td>\n",
       "      <td>21.000000</td>\n",
       "      <td>35.650000</td>\n",
       "      <td>433.0</td>\n",
       "      <td>719.000000</td>\n",
       "      <td>0.005492</td>\n",
       "      <td>1</td>\n",
       "    </tr>\n",
       "    <tr>\n",
       "      <th>8132</th>\n",
       "      <td>2015-02-10 09:22:00</td>\n",
       "      <td>21.000000</td>\n",
       "      <td>35.700000</td>\n",
       "      <td>433.0</td>\n",
       "      <td>730.250000</td>\n",
       "      <td>0.005500</td>\n",
       "      <td>1</td>\n",
       "    </tr>\n",
       "    <tr>\n",
       "      <th>8133</th>\n",
       "      <td>2015-02-10 09:23:00</td>\n",
       "      <td>21.000000</td>\n",
       "      <td>35.760000</td>\n",
       "      <td>433.0</td>\n",
       "      <td>739.000000</td>\n",
       "      <td>0.005509</td>\n",
       "      <td>1</td>\n",
       "    </tr>\n",
       "    <tr>\n",
       "      <th>8134</th>\n",
       "      <td>2015-02-10 09:23:59</td>\n",
       "      <td>21.000000</td>\n",
       "      <td>35.850000</td>\n",
       "      <td>433.0</td>\n",
       "      <td>756.250000</td>\n",
       "      <td>0.005523</td>\n",
       "      <td>1</td>\n",
       "    </tr>\n",
       "    <tr>\n",
       "      <th>8135</th>\n",
       "      <td>2015-02-10 09:24:59</td>\n",
       "      <td>21.000000</td>\n",
       "      <td>35.700000</td>\n",
       "      <td>433.0</td>\n",
       "      <td>761.000000</td>\n",
       "      <td>0.005500</td>\n",
       "      <td>1</td>\n",
       "    </tr>\n",
       "    <tr>\n",
       "      <th>8136</th>\n",
       "      <td>2015-02-10 09:26:00</td>\n",
       "      <td>21.025000</td>\n",
       "      <td>35.950000</td>\n",
       "      <td>433.0</td>\n",
       "      <td>763.000000</td>\n",
       "      <td>0.005547</td>\n",
       "      <td>1</td>\n",
       "    </tr>\n",
       "    <tr>\n",
       "      <th>8137</th>\n",
       "      <td>2015-02-10 09:27:00</td>\n",
       "      <td>21.000000</td>\n",
       "      <td>35.860000</td>\n",
       "      <td>433.0</td>\n",
       "      <td>771.333333</td>\n",
       "      <td>0.005525</td>\n",
       "      <td>1</td>\n",
       "    </tr>\n",
       "    <tr>\n",
       "      <th>8138</th>\n",
       "      <td>2015-02-10 09:28:00</td>\n",
       "      <td>21.050000</td>\n",
       "      <td>36.050000</td>\n",
       "      <td>433.0</td>\n",
       "      <td>780.250000</td>\n",
       "      <td>0.005571</td>\n",
       "      <td>1</td>\n",
       "    </tr>\n",
       "    <tr>\n",
       "      <th>8139</th>\n",
       "      <td>2015-02-10 09:29:00</td>\n",
       "      <td>21.050000</td>\n",
       "      <td>36.097500</td>\n",
       "      <td>433.0</td>\n",
       "      <td>787.250000</td>\n",
       "      <td>0.005579</td>\n",
       "      <td>1</td>\n",
       "    </tr>\n",
       "    <tr>\n",
       "      <th>8140</th>\n",
       "      <td>2015-02-10 09:29:59</td>\n",
       "      <td>21.050000</td>\n",
       "      <td>35.995000</td>\n",
       "      <td>433.0</td>\n",
       "      <td>789.500000</td>\n",
       "      <td>0.005563</td>\n",
       "      <td>1</td>\n",
       "    </tr>\n",
       "    <tr>\n",
       "      <th>8141</th>\n",
       "      <td>2015-02-10 09:30:59</td>\n",
       "      <td>21.100000</td>\n",
       "      <td>36.095000</td>\n",
       "      <td>433.0</td>\n",
       "      <td>798.500000</td>\n",
       "      <td>0.005596</td>\n",
       "      <td>1</td>\n",
       "    </tr>\n",
       "    <tr>\n",
       "      <th>8142</th>\n",
       "      <td>2015-02-10 09:32:00</td>\n",
       "      <td>21.100000</td>\n",
       "      <td>36.260000</td>\n",
       "      <td>433.0</td>\n",
       "      <td>820.333333</td>\n",
       "      <td>0.005621</td>\n",
       "      <td>1</td>\n",
       "    </tr>\n",
       "    <tr>\n",
       "      <th>8143</th>\n",
       "      <td>2015-02-10 09:33:00</td>\n",
       "      <td>21.100000</td>\n",
       "      <td>36.200000</td>\n",
       "      <td>447.0</td>\n",
       "      <td>821.000000</td>\n",
       "      <td>0.005612</td>\n",
       "      <td>1</td>\n",
       "    </tr>\n",
       "  </tbody>\n",
       "</table>\n",
       "<p>8143 rows × 7 columns</p>\n",
       "</div>"
      ],
      "text/plain": [
       "                     date  Temperature   Humidity  Light         CO2  \\\n",
       "1     2015-02-04 17:51:00    23.180000  27.272000  426.0  721.250000   \n",
       "2     2015-02-04 17:51:59    23.150000  27.267500  429.5  714.000000   \n",
       "3     2015-02-04 17:53:00    23.150000  27.245000  426.0  713.500000   \n",
       "4     2015-02-04 17:54:00    23.150000  27.200000  426.0  708.250000   \n",
       "5     2015-02-04 17:55:00    23.100000  27.200000  426.0  704.500000   \n",
       "6     2015-02-04 17:55:59    23.100000  27.200000  419.0  701.000000   \n",
       "7     2015-02-04 17:57:00    23.100000  27.200000  419.0  701.666667   \n",
       "8     2015-02-04 17:57:59    23.100000  27.200000  419.0  699.000000   \n",
       "9     2015-02-04 17:58:59    23.100000  27.200000  419.0  689.333333   \n",
       "10    2015-02-04 18:00:00    23.075000  27.175000  419.0  688.000000   \n",
       "11    2015-02-04 18:01:00    23.075000  27.150000  419.0  690.250000   \n",
       "12    2015-02-04 18:02:00    23.100000  27.100000  419.0  691.000000   \n",
       "13    2015-02-04 18:03:00    23.100000  27.166667  419.0  683.500000   \n",
       "14    2015-02-04 18:04:00    23.050000  27.150000  419.0  687.500000   \n",
       "15    2015-02-04 18:04:59    23.000000  27.125000  419.0  686.000000   \n",
       "16    2015-02-04 18:06:00    23.000000  27.125000  418.5  680.500000   \n",
       "17    2015-02-04 18:07:00    23.000000  27.200000    0.0  681.500000   \n",
       "18    2015-02-04 18:08:00    22.945000  27.290000    0.0  685.000000   \n",
       "19    2015-02-04 18:08:59    22.945000  27.390000    0.0  685.000000   \n",
       "20    2015-02-04 18:10:00    22.890000  27.390000    0.0  689.000000   \n",
       "21    2015-02-04 18:10:59    22.890000  27.390000    0.0  689.500000   \n",
       "22    2015-02-04 18:11:59    22.890000  27.390000    0.0  689.000000   \n",
       "23    2015-02-04 18:13:00    22.890000  27.445000    0.0  691.000000   \n",
       "24    2015-02-04 18:14:00    22.890000  27.500000    0.0  688.000000   \n",
       "25    2015-02-04 18:15:00    22.890000  27.500000    0.0  689.500000   \n",
       "26    2015-02-04 18:16:00    22.790000  27.445000    0.0  689.000000   \n",
       "27    2015-02-04 18:16:59    22.790000  27.500000    0.0  685.666667   \n",
       "28    2015-02-04 18:17:59    22.790000  27.500000    0.0  687.000000   \n",
       "29    2015-02-04 18:19:00    22.790000  27.500000    0.0  688.000000   \n",
       "30    2015-02-04 18:20:00    22.745000  27.500000    0.0  670.000000   \n",
       "...                   ...          ...        ...    ...         ...   \n",
       "8114  2015-02-10 09:04:00    20.700000  34.417500  419.0  568.750000   \n",
       "8115  2015-02-10 09:04:59    20.700000  34.090000  419.0  556.666667   \n",
       "8116  2015-02-10 09:06:00    20.700000  34.296667  419.0  548.000000   \n",
       "8117  2015-02-10 09:07:00    20.730000  34.466667  419.0  563.333333   \n",
       "8118  2015-02-10 09:08:00    20.745000  34.567500  426.0  593.750000   \n",
       "8119  2015-02-10 09:08:59    20.767500  34.717500  422.5  600.750000   \n",
       "8120  2015-02-10 09:10:00    20.790000  35.090000  426.0  623.000000   \n",
       "8121  2015-02-10 09:10:59    20.790000  34.972500  433.0  631.000000   \n",
       "8122  2015-02-10 09:11:59    20.790000  34.826667  433.0  636.000000   \n",
       "8123  2015-02-10 09:13:00    20.840000  35.195000  433.0  636.750000   \n",
       "8124  2015-02-10 09:14:00    20.890000  35.300000  433.0  663.000000   \n",
       "8125  2015-02-10 09:15:00    20.856667  35.096667  433.0  665.333333   \n",
       "8126  2015-02-10 09:16:00    20.890000  35.320000  433.0  669.500000   \n",
       "8127  2015-02-10 09:16:59    20.917500  35.475000  433.0  679.250000   \n",
       "8128  2015-02-10 09:17:59    20.890000  35.400000  433.0  684.666667   \n",
       "8129  2015-02-10 09:19:00    20.917500  35.717500  433.0  706.250000   \n",
       "8130  2015-02-10 09:20:00    20.958750  35.683750  433.0  712.625000   \n",
       "8131  2015-02-10 09:21:00    21.000000  35.650000  433.0  719.000000   \n",
       "8132  2015-02-10 09:22:00    21.000000  35.700000  433.0  730.250000   \n",
       "8133  2015-02-10 09:23:00    21.000000  35.760000  433.0  739.000000   \n",
       "8134  2015-02-10 09:23:59    21.000000  35.850000  433.0  756.250000   \n",
       "8135  2015-02-10 09:24:59    21.000000  35.700000  433.0  761.000000   \n",
       "8136  2015-02-10 09:26:00    21.025000  35.950000  433.0  763.000000   \n",
       "8137  2015-02-10 09:27:00    21.000000  35.860000  433.0  771.333333   \n",
       "8138  2015-02-10 09:28:00    21.050000  36.050000  433.0  780.250000   \n",
       "8139  2015-02-10 09:29:00    21.050000  36.097500  433.0  787.250000   \n",
       "8140  2015-02-10 09:29:59    21.050000  35.995000  433.0  789.500000   \n",
       "8141  2015-02-10 09:30:59    21.100000  36.095000  433.0  798.500000   \n",
       "8142  2015-02-10 09:32:00    21.100000  36.260000  433.0  820.333333   \n",
       "8143  2015-02-10 09:33:00    21.100000  36.200000  447.0  821.000000   \n",
       "\n",
       "      HumidityRatio  Occupancy  \n",
       "1          0.004793          1  \n",
       "2          0.004783          1  \n",
       "3          0.004779          1  \n",
       "4          0.004772          1  \n",
       "5          0.004757          1  \n",
       "6          0.004757          1  \n",
       "7          0.004757          1  \n",
       "8          0.004757          1  \n",
       "9          0.004757          1  \n",
       "10         0.004745          1  \n",
       "11         0.004741          1  \n",
       "12         0.004739          1  \n",
       "13         0.004751          1  \n",
       "14         0.004734          1  \n",
       "15         0.004715          1  \n",
       "16         0.004715          1  \n",
       "17         0.004728          0  \n",
       "18         0.004728          0  \n",
       "19         0.004745          0  \n",
       "20         0.004730          0  \n",
       "21         0.004730          0  \n",
       "22         0.004730          0  \n",
       "23         0.004739          0  \n",
       "24         0.004749          0  \n",
       "25         0.004749          0  \n",
       "26         0.004710          0  \n",
       "27         0.004720          0  \n",
       "28         0.004720          0  \n",
       "29         0.004720          0  \n",
       "30         0.004707          0  \n",
       "...             ...        ...  \n",
       "8114       0.005203          1  \n",
       "8115       0.005153          1  \n",
       "8116       0.005184          1  \n",
       "8117       0.005220          1  \n",
       "8118       0.005240          1  \n",
       "8119       0.005270          1  \n",
       "8120       0.005335          1  \n",
       "8121       0.005317          1  \n",
       "8122       0.005295          1  \n",
       "8123       0.005368          1  \n",
       "8124       0.005401          1  \n",
       "8125       0.005358          1  \n",
       "8126       0.005404          1  \n",
       "8127       0.005437          1  \n",
       "8128       0.005416          1  \n",
       "8129       0.005474          1  \n",
       "8130       0.005483          1  \n",
       "8131       0.005492          1  \n",
       "8132       0.005500          1  \n",
       "8133       0.005509          1  \n",
       "8134       0.005523          1  \n",
       "8135       0.005500          1  \n",
       "8136       0.005547          1  \n",
       "8137       0.005525          1  \n",
       "8138       0.005571          1  \n",
       "8139       0.005579          1  \n",
       "8140       0.005563          1  \n",
       "8141       0.005596          1  \n",
       "8142       0.005621          1  \n",
       "8143       0.005612          1  \n",
       "\n",
       "[8143 rows x 7 columns]"
      ]
     },
     "execution_count": 4,
     "metadata": {},
     "output_type": "execute_result"
    }
   ],
   "source": [
    "occupancy = pd.read_csv(data, sep=',', decimal ='.')\n",
    "occupancy"
   ]
  },
  {
   "cell_type": "code",
   "execution_count": 5,
   "metadata": {},
   "outputs": [
    {
     "data": {
      "text/plain": [
       "date              object\n",
       "Temperature      float64\n",
       "Humidity         float64\n",
       "Light            float64\n",
       "CO2              float64\n",
       "HumidityRatio    float64\n",
       "Occupancy          int64\n",
       "dtype: object"
      ]
     },
     "execution_count": 5,
     "metadata": {},
     "output_type": "execute_result"
    }
   ],
   "source": [
    "#check data type:\n",
    "occupancy.dtypes"
   ]
  },
  {
   "cell_type": "code",
   "execution_count": 6,
   "metadata": {},
   "outputs": [
    {
     "data": {
      "text/plain": [
       "(8143, 7)"
      ]
     },
     "execution_count": 6,
     "metadata": {},
     "output_type": "execute_result"
    }
   ],
   "source": [
    "occupancy.shape"
   ]
  },
  {
   "cell_type": "code",
   "execution_count": 7,
   "metadata": {},
   "outputs": [],
   "source": [
    "import numpy as np"
   ]
  },
  {
   "cell_type": "code",
   "execution_count": 8,
   "metadata": {},
   "outputs": [
    {
     "name": "stdout",
     "output_type": "stream",
     "text": [
      "date ('2015-02-04 17:51:00', '2015-02-10 09:33:00')\n",
      "Temperature (19.0, 23.18)\n",
      "Humidity (16.745, 39.1175)\n",
      "Light (0.0, 1546.33333333333)\n",
      "CO2 (412.75, 2028.5)\n",
      "HumidityRatio (0.00267412691390407, 0.00647601323671025)\n",
      "Occupancy (0, 1)\n"
     ]
    }
   ],
   "source": [
    "#find min/max of the variables:\n",
    "for i in occupancy.iloc[:,:]:\n",
    "    print i, (np.min(occupancy.loc[:,i]), np.max(occupancy.loc[:,i]))"
   ]
  },
  {
   "cell_type": "code",
   "execution_count": 9,
   "metadata": {},
   "outputs": [
    {
     "data": {
      "text/plain": [
       "date             False\n",
       "Temperature      False\n",
       "Humidity         False\n",
       "Light            False\n",
       "CO2              False\n",
       "HumidityRatio    False\n",
       "Occupancy        False\n",
       "dtype: bool"
      ]
     },
     "execution_count": 9,
     "metadata": {},
     "output_type": "execute_result"
    }
   ],
   "source": [
    "#Check if the data has any NaN values:\n",
    "occupancy.isnull().any()"
   ]
  },
  {
   "cell_type": "markdown",
   "metadata": {},
   "source": [
    "# Data Exploration"
   ]
  },
  {
   "cell_type": "code",
   "execution_count": 10,
   "metadata": {},
   "outputs": [
    {
     "data": {
      "text/plain": [
       "array(['date', 'Temperature', 'Humidity', 'Light', 'CO2', 'HumidityRatio',\n",
       "       'Occupancy'], dtype='|S13')"
      ]
     },
     "execution_count": 10,
     "metadata": {},
     "output_type": "execute_result"
    }
   ],
   "source": [
    "variables = np.array(['date', 'Temperature', 'Humidity', 'Light', 'CO2', 'HumidityRatio', 'Occupancy'])\n",
    "variables"
   ]
  },
  {
   "cell_type": "code",
   "execution_count": 11,
   "metadata": {},
   "outputs": [],
   "source": [
    "import matplotlib.pyplot as plt"
   ]
  },
  {
   "cell_type": "code",
   "execution_count": 12,
   "metadata": {
    "scrolled": true
   },
   "outputs": [
    {
     "data": {
      "image/png": "[encoded data removed]",
      "text/plain": [
       "<Figure size 432x288 with 1 Axes>"
      ]
     },
     "metadata": {
      "needs_background": "light"
     },
     "output_type": "display_data"
    },
    {
     "data": {
      "image/png": "[encoded data removed]",
      "text/plain": [
       "<Figure size 432x288 with 1 Axes>"
      ]
     },
     "metadata": {
      "needs_background": "light"
     },
     "output_type": "display_data"
    },
    {
     "data": {
      "image/png": "[encoded data removed]",
      "text/plain": [
       "<Figure size 432x288 with 1 Axes>"
      ]
     },
     "metadata": {
      "needs_background": "light"
     },
     "output_type": "display_data"
    },
    {
     "data": {
      "image/png": "[encoded data removed]",
      "text/plain": [
       "<Figure size 432x288 with 1 Axes>"
      ]
     },
     "metadata": {
      "needs_background": "light"
     },
     "output_type": "display_data"
    },
    {
     "data": {
      "image/png": "[encoded data removed]",
      "text/plain": [
       "<Figure size 432x288 with 1 Axes>"
      ]
     },
     "metadata": {
      "needs_background": "light"
     },
     "output_type": "display_data"
    },
    {
     "data": {
      "image/png": "[encoded data removed]",
      "text/plain": [
       "<Figure size 432x288 with 1 Axes>"
      ]
     },
     "metadata": {
      "needs_background": "light"
     },
     "output_type": "display_data"
    }
   ],
   "source": [
    "#Preliminary exploration: boxplot scan\n",
    "for i in variables[1:,]:\n",
    "    occupancy.boxplot(column=i)\n",
    "    plt.show()"
   ]
  },
  {
   "cell_type": "code",
   "execution_count": 13,
   "metadata": {
    "scrolled": false
   },
   "outputs": [
    {
     "data": {
      "text/plain": [
       "Text(0,0.5,'count')"
      ]
     },
     "execution_count": 13,
     "metadata": {},
     "output_type": "execute_result"
    },
    {
     "data": {
      "image/png": "[encoded data removed]",
      "text/plain": [
       "<Figure size 432x288 with 1 Axes>"
      ]
     },
     "metadata": {
      "needs_background": "light"
     },
     "output_type": "display_data"
    }
   ],
   "source": [
    "#Investigate the outliers/ influential points for light.\n",
    "occupancy.dropna()['Light'].plot(kind='hist', bins = 30, color = 'green')\n",
    "plt.xlabel(\"Light\")\n",
    "plt.ylabel(\"count\")"
   ]
  },
  {
   "cell_type": "code",
   "execution_count": 14,
   "metadata": {},
   "outputs": [
    {
     "data": {
      "text/plain": [
       "array([1.57376283, 1.59173515, 1.57376283, ..., 1.60970748, 1.60970748,\n",
       "       1.68159679])"
      ]
     },
     "execution_count": 14,
     "metadata": {},
     "output_type": "execute_result"
    }
   ],
   "source": [
    "from scipy import stats\n",
    "z = np.abs(stats.zscore(occupancy['Light']))\n",
    "z"
   ]
  },
  {
   "cell_type": "code",
   "execution_count": 15,
   "metadata": {},
   "outputs": [
    {
     "data": {
      "text/plain": [
       "pandas.core.series.Series"
      ]
     },
     "execution_count": 15,
     "metadata": {},
     "output_type": "execute_result"
    }
   ],
   "source": [
    "type(occupancy['Light'])"
   ]
  },
  {
   "cell_type": "code",
   "execution_count": 16,
   "metadata": {},
   "outputs": [
    {
     "data": {
      "text/plain": [
       "8143"
      ]
     },
     "execution_count": 16,
     "metadata": {},
     "output_type": "execute_result"
    }
   ],
   "source": [
    "z.size"
   ]
  },
  {
   "cell_type": "code",
   "execution_count": 17,
   "metadata": {},
   "outputs": [
    {
     "name": "stdout",
     "output_type": "stream",
     "text": [
      "(array([1108, 1109, 1143, 3831, 3832, 3833]),)\n"
     ]
    }
   ],
   "source": [
    "outliers = np.where(z > 3)\n",
    "print outliers"
   ]
  },
  {
   "cell_type": "code",
   "execution_count": 18,
   "metadata": {},
   "outputs": [
    {
     "data": {
      "text/plain": [
       "1"
      ]
     },
     "execution_count": 18,
     "metadata": {},
     "output_type": "execute_result"
    }
   ],
   "source": [
    "len(outliers)"
   ]
  },
  {
   "cell_type": "code",
   "execution_count": 19,
   "metadata": {},
   "outputs": [
    {
     "data": {
      "text/plain": [
       "(array([1108, 1109, 1143, 3831, 3832, 3833]),)"
      ]
     },
     "execution_count": 19,
     "metadata": {},
     "output_type": "execute_result"
    }
   ],
   "source": [
    "outliers"
   ]
  },
  {
   "cell_type": "code",
   "execution_count": 20,
   "metadata": {},
   "outputs": [
    {
     "data": {
      "text/plain": [
       "tuple"
      ]
     },
     "execution_count": 20,
     "metadata": {},
     "output_type": "execute_result"
    }
   ],
   "source": [
    "type(outliers)"
   ]
  },
  {
   "cell_type": "code",
   "execution_count": 21,
   "metadata": {},
   "outputs": [
    {
     "data": {
      "text/plain": [
       "6"
      ]
     },
     "execution_count": 21,
     "metadata": {},
     "output_type": "execute_result"
    }
   ],
   "source": [
    "outliers[0].size"
   ]
  },
  {
   "cell_type": "code",
   "execution_count": 22,
   "metadata": {},
   "outputs": [
    {
     "data": {
      "text/plain": [
       "1147     676.000000\n",
       "1145     686.250000\n",
       "1113     688.500000\n",
       "1107     696.500000\n",
       "1110     708.750000\n",
       "1144     732.750000\n",
       "1109     744.000000\n",
       "3834     829.000000\n",
       "3833    1451.750000\n",
       "3832    1546.333333\n",
       "Name: Light, dtype: float64"
      ]
     },
     "execution_count": 22,
     "metadata": {},
     "output_type": "execute_result"
    }
   ],
   "source": [
    "#Sort the Light values in descending order to see which value to cap the outliers at\n",
    "#(this will be the max value after considering what is an outlier)\n",
    "\n",
    "occupancy['Light'].sort_values().tail(10)"
   ]
  },
  {
   "cell_type": "code",
   "execution_count": 23,
   "metadata": {},
   "outputs": [],
   "source": [
    "#Clean the data from the Light outliers\n",
    "light_check = occupancy['Light']> 708\n",
    "occupancy.loc[light_check, 'Light'] = 696.5"
   ]
  },
  {
   "cell_type": "code",
   "execution_count": 24,
   "metadata": {},
   "outputs": [
    {
     "data": {
      "text/plain": [
       "Text(0,0.5,'count')"
      ]
     },
     "execution_count": 24,
     "metadata": {},
     "output_type": "execute_result"
    },
    {
     "data": {
      "image/png": "[encoded data removed]",
      "text/plain": [
       "<Figure size 432x288 with 1 Axes>"
      ]
     },
     "metadata": {
      "needs_background": "light"
     },
     "output_type": "display_data"
    }
   ],
   "source": [
    "#Regraph\n",
    "occupancy.dropna()['Light'].plot(kind='hist', bins = 30, color = 'green')\n",
    "plt.xlabel(\"Light\")\n",
    "plt.ylabel(\"count\")"
   ]
  },
  {
   "cell_type": "code",
   "execution_count": 25,
   "metadata": {},
   "outputs": [
    {
     "data": {
      "text/plain": [
       "Text(0,0.5,'count')"
      ]
     },
     "execution_count": 25,
     "metadata": {},
     "output_type": "execute_result"
    },
    {
     "data": {
      "image/png": "[encoded data removed]",
      "text/plain": [
       "<Figure size 432x288 with 1 Axes>"
      ]
     },
     "metadata": {
      "needs_background": "light"
     },
     "output_type": "display_data"
    }
   ],
   "source": [
    "# CO2 exploration\n",
    "occupancy.dropna()['CO2'].plot(kind='hist', bins = 30, color = 'blue')\n",
    "plt.xlabel(\"CO2\")\n",
    "plt.ylabel(\"count\")"
   ]
  },
  {
   "cell_type": "code",
   "execution_count": 26,
   "metadata": {},
   "outputs": [
    {
     "name": "stdout",
     "output_type": "stream",
     "text": [
      "(array([7024, 7025, 7026, 7027, 7028, 7029, 7030, 7031, 7032, 7033, 7034,\n",
      "       7035, 7036, 7037, 7038, 7039, 7040, 7041, 7042, 7043, 7044, 7045,\n",
      "       7046, 7047, 7048, 7049, 7050, 7051, 7052, 7053, 7054, 7055, 7056,\n",
      "       7057, 7058, 7059, 7060, 7061, 7062, 7063, 7064, 7065, 7066, 7067,\n",
      "       7068, 7069, 7070, 7071, 7072, 7073, 7074, 7075, 7076, 7077, 7078,\n",
      "       7079, 7080, 7081, 7082, 7083, 7084, 7085, 7086, 7087, 7088, 7089,\n",
      "       7090, 7091, 7092, 7093, 7094, 7095, 7096, 7097, 7098, 7099, 7100,\n",
      "       7101, 7102, 7103, 7104, 7105, 7106, 7107, 7108, 7109, 7110, 7111,\n",
      "       7112, 7113, 7114, 7115, 7116, 7117, 7118, 7119, 7120, 7121, 7122,\n",
      "       7123, 7124, 7125, 7126, 7127, 7128, 7129, 7130, 7131, 7132, 7133,\n",
      "       7134, 7135, 7136, 7137, 7138, 7139, 7140, 7141, 7142, 7143, 7144,\n",
      "       7145, 7146, 7147, 7148, 7149, 7150, 7151, 7152, 7153, 7154, 7155,\n",
      "       7156, 7157, 7158, 7159, 7160, 7161, 7162, 7163, 7164, 7165, 7166,\n",
      "       7167, 7168, 7169, 7170, 7171, 7172, 7173, 7174, 7175, 7176, 7177,\n",
      "       7178, 7179, 7180, 7181, 7182, 7183, 7184, 7185, 7186, 7187, 7188,\n",
      "       7189, 7190, 7191, 7192, 7193, 7194, 7195, 7196, 7197, 7198, 7199,\n",
      "       7200, 7201, 7202, 7203, 7204, 7205, 7206, 7207, 7208, 7209, 7210,\n",
      "       7211, 7212, 7213, 7214, 7215, 7216, 7217, 7218, 7219, 7220, 7221,\n",
      "       7222, 7223, 7224, 7225, 7226, 7227, 7228, 7229, 7230, 7231, 7232,\n",
      "       7233, 7234]),)\n"
     ]
    }
   ],
   "source": [
    "z2 = np.abs(stats.zscore(occupancy['CO2']))\n",
    "outliers2 = np.where(z2 > 3)\n",
    "print outliers2\n",
    "## Many outliers - graph looks to be positively skewed."
   ]
  },
  {
   "cell_type": "code",
   "execution_count": 27,
   "metadata": {},
   "outputs": [
    {
     "data": {
      "text/plain": [
       "Text(0,0.5,'Humidity')"
      ]
     },
     "execution_count": 27,
     "metadata": {},
     "output_type": "execute_result"
    },
    {
     "data": {
      "image/png": "[encoded data removed]",
      "text/plain": [
       "<Figure size 432x288 with 1 Axes>"
      ]
     },
     "metadata": {
      "needs_background": "light"
     },
     "output_type": "display_data"
    }
   ],
   "source": [
    "#Temperature versus humdity\n",
    "occupancy.plot(kind = 'scatter', x=1,y=2)\n",
    "plt.title(\"Temperature vs Humidity\")\n",
    "plt.xlabel('Temperature')\n",
    "plt.ylabel('Humidity')"
   ]
  },
  {
   "cell_type": "code",
   "execution_count": 28,
   "metadata": {},
   "outputs": [
    {
     "data": {
      "text/plain": [
       "Text(0,0.5,'Humidity Ratio')"
      ]
     },
     "execution_count": 28,
     "metadata": {},
     "output_type": "execute_result"
    },
    {
     "data": {
      "image/png": "[encoded data removed]",
      "text/plain": [
       "<Figure size 432x288 with 1 Axes>"
      ]
     },
     "metadata": {
      "needs_background": "light"
     },
     "output_type": "display_data"
    }
   ],
   "source": [
    "occupancy.plot(kind = 'scatter', x=2,y=5)\n",
    "plt.title(\"Humidity vs Humidity Ratio\")\n",
    "plt.xlabel('Humidity')\n",
    "plt.ylabel('Humidity Ratio')"
   ]
  },
  {
   "cell_type": "code",
   "execution_count": 36,
   "metadata": {},
   "outputs": [
    {
     "data": {
      "text/plain": [
       "Text(0,0.5,'Co2')"
      ]
     },
     "execution_count": 36,
     "metadata": {},
     "output_type": "execute_result"
    },
    {
     "data": {
      "image/png": "[encoded data removed]",
      "text/plain": [
       "<Figure size 432x288 with 1 Axes>"
      ]
     },
     "metadata": {
      "needs_background": "light"
     },
     "output_type": "display_data"
    }
   ],
   "source": [
    "occupancy.plot(kind = 'scatter', x=3,y=4)\n",
    "plt.title(\"Light vs CO2\")\n",
    "plt.xlabel('Light')\n",
    "plt.ylabel('Co2')"
   ]
  },
  {
   "cell_type": "code",
   "execution_count": 37,
   "metadata": {
    "scrolled": true
   },
   "outputs": [
    {
     "data": {
      "text/plain": [
       "Text(0,0.5,'Temperature')"
      ]
     },
     "execution_count": 37,
     "metadata": {},
     "output_type": "execute_result"
    },
    {
     "data": {
      "image/png": "[encoded data removed]",
      "text/plain": [
       "<Figure size 432x288 with 1 Axes>"
      ]
     },
     "metadata": {
      "needs_background": "light"
     },
     "output_type": "display_data"
    }
   ],
   "source": [
    "occupancy.plot(kind = 'scatter', x=3,y=1)\n",
    "plt.title(\"Light vs Temperature\")\n",
    "plt.xlabel('Light')\n",
    "plt.ylabel('Temperature')"
   ]
  },
  {
   "cell_type": "code",
   "execution_count": 38,
   "metadata": {},
   "outputs": [
    {
     "data": {
      "text/plain": [
       "Text(0,0.5,'Humidity')"
      ]
     },
     "execution_count": 38,
     "metadata": {},
     "output_type": "execute_result"
    },
    {
     "data": {
      "image/png": "[encoded data removed]",
      "text/plain": [
       "<Figure size 432x288 with 1 Axes>"
      ]
     },
     "metadata": {
      "needs_background": "light"
     },
     "output_type": "display_data"
    }
   ],
   "source": [
    "occupancy.plot(kind = 'scatter', x=4,y=2)\n",
    "plt.title(\"CO2 vs Humidity\")\n",
    "plt.xlabel('Co2')\n",
    "plt.ylabel('Humidity')"
   ]
  },
  {
   "cell_type": "code",
   "execution_count": null,
   "metadata": {},
   "outputs": [],
   "source": [
    "# TO COMPLETE: SCATTER MATRIX of \n",
    "# variables minus occupancy and time."
   ]
  },
  {
   "cell_type": "code",
   "execution_count": null,
   "metadata": {},
   "outputs": [],
   "source": [
    "##########################"
   ]
  },
  {
   "cell_type": "code",
   "execution_count": 39,
   "metadata": {},
   "outputs": [
    {
     "data": {
      "text/plain": [
       "dtype('<M8[ns]')"
      ]
     },
     "execution_count": 39,
     "metadata": {},
     "output_type": "execute_result"
    }
   ],
   "source": [
    "#Time variable will need to be changed into date-time for the data model.\n",
    "time = pd.to_datetime(occupancy['date'])\n",
    "time.dtypes\n",
    "pd.to_datetime(occupancy['date'])\n",
    "occupancy['date'].dtypes"
   ]
  },
  {
   "cell_type": "code",
   "execution_count": 30,
   "metadata": {},
   "outputs": [],
   "source": [
    "# Now to explore Date-time variable:"
   ]
  },
  {
   "cell_type": "code",
   "execution_count": 41,
   "metadata": {
    "scrolled": true
   },
   "outputs": [
    {
     "data": {
      "text/html": [
       "<div>\n",
       "<style scoped>\n",
       "    .dataframe tbody tr th:only-of-type {\n",
       "        vertical-align: middle;\n",
       "    }\n",
       "\n",
       "    .dataframe tbody tr th {\n",
       "        vertical-align: top;\n",
       "    }\n",
       "\n",
       "    .dataframe thead th {\n",
       "        text-align: right;\n",
       "    }\n",
       "</style>\n",
       "<table border=\"1\" class=\"dataframe\">\n",
       "  <thead>\n",
       "    <tr style=\"text-align: right;\">\n",
       "      <th></th>\n",
       "      <th>Temperature</th>\n",
       "      <th>Humidity</th>\n",
       "      <th>Light</th>\n",
       "      <th>CO2</th>\n",
       "      <th>HumidityRatio</th>\n",
       "      <th>Occupancy</th>\n",
       "    </tr>\n",
       "    <tr>\n",
       "      <th>date</th>\n",
       "      <th></th>\n",
       "      <th></th>\n",
       "      <th></th>\n",
       "      <th></th>\n",
       "      <th></th>\n",
       "      <th></th>\n",
       "    </tr>\n",
       "  </thead>\n",
       "  <tbody>\n",
       "    <tr>\n",
       "      <th>2015-02-04 17:51:00</th>\n",
       "      <td>23.180000</td>\n",
       "      <td>27.272000</td>\n",
       "      <td>426.0</td>\n",
       "      <td>721.250000</td>\n",
       "      <td>0.004793</td>\n",
       "      <td>1</td>\n",
       "    </tr>\n",
       "    <tr>\n",
       "      <th>2015-02-04 17:51:59</th>\n",
       "      <td>23.150000</td>\n",
       "      <td>27.267500</td>\n",
       "      <td>429.5</td>\n",
       "      <td>714.000000</td>\n",
       "      <td>0.004783</td>\n",
       "      <td>1</td>\n",
       "    </tr>\n",
       "    <tr>\n",
       "      <th>2015-02-04 17:53:00</th>\n",
       "      <td>23.150000</td>\n",
       "      <td>27.245000</td>\n",
       "      <td>426.0</td>\n",
       "      <td>713.500000</td>\n",
       "      <td>0.004779</td>\n",
       "      <td>1</td>\n",
       "    </tr>\n",
       "    <tr>\n",
       "      <th>2015-02-04 17:54:00</th>\n",
       "      <td>23.150000</td>\n",
       "      <td>27.200000</td>\n",
       "      <td>426.0</td>\n",
       "      <td>708.250000</td>\n",
       "      <td>0.004772</td>\n",
       "      <td>1</td>\n",
       "    </tr>\n",
       "    <tr>\n",
       "      <th>2015-02-04 17:55:00</th>\n",
       "      <td>23.100000</td>\n",
       "      <td>27.200000</td>\n",
       "      <td>426.0</td>\n",
       "      <td>704.500000</td>\n",
       "      <td>0.004757</td>\n",
       "      <td>1</td>\n",
       "    </tr>\n",
       "    <tr>\n",
       "      <th>2015-02-04 17:55:59</th>\n",
       "      <td>23.100000</td>\n",
       "      <td>27.200000</td>\n",
       "      <td>419.0</td>\n",
       "      <td>701.000000</td>\n",
       "      <td>0.004757</td>\n",
       "      <td>1</td>\n",
       "    </tr>\n",
       "    <tr>\n",
       "      <th>2015-02-04 17:57:00</th>\n",
       "      <td>23.100000</td>\n",
       "      <td>27.200000</td>\n",
       "      <td>419.0</td>\n",
       "      <td>701.666667</td>\n",
       "      <td>0.004757</td>\n",
       "      <td>1</td>\n",
       "    </tr>\n",
       "    <tr>\n",
       "      <th>2015-02-04 17:57:59</th>\n",
       "      <td>23.100000</td>\n",
       "      <td>27.200000</td>\n",
       "      <td>419.0</td>\n",
       "      <td>699.000000</td>\n",
       "      <td>0.004757</td>\n",
       "      <td>1</td>\n",
       "    </tr>\n",
       "    <tr>\n",
       "      <th>2015-02-04 17:58:59</th>\n",
       "      <td>23.100000</td>\n",
       "      <td>27.200000</td>\n",
       "      <td>419.0</td>\n",
       "      <td>689.333333</td>\n",
       "      <td>0.004757</td>\n",
       "      <td>1</td>\n",
       "    </tr>\n",
       "    <tr>\n",
       "      <th>2015-02-04 18:00:00</th>\n",
       "      <td>23.075000</td>\n",
       "      <td>27.175000</td>\n",
       "      <td>419.0</td>\n",
       "      <td>688.000000</td>\n",
       "      <td>0.004745</td>\n",
       "      <td>1</td>\n",
       "    </tr>\n",
       "    <tr>\n",
       "      <th>2015-02-04 18:01:00</th>\n",
       "      <td>23.075000</td>\n",
       "      <td>27.150000</td>\n",
       "      <td>419.0</td>\n",
       "      <td>690.250000</td>\n",
       "      <td>0.004741</td>\n",
       "      <td>1</td>\n",
       "    </tr>\n",
       "    <tr>\n",
       "      <th>2015-02-04 18:02:00</th>\n",
       "      <td>23.100000</td>\n",
       "      <td>27.100000</td>\n",
       "      <td>419.0</td>\n",
       "      <td>691.000000</td>\n",
       "      <td>0.004739</td>\n",
       "      <td>1</td>\n",
       "    </tr>\n",
       "    <tr>\n",
       "      <th>2015-02-04 18:03:00</th>\n",
       "      <td>23.100000</td>\n",
       "      <td>27.166667</td>\n",
       "      <td>419.0</td>\n",
       "      <td>683.500000</td>\n",
       "      <td>0.004751</td>\n",
       "      <td>1</td>\n",
       "    </tr>\n",
       "    <tr>\n",
       "      <th>2015-02-04 18:04:00</th>\n",
       "      <td>23.050000</td>\n",
       "      <td>27.150000</td>\n",
       "      <td>419.0</td>\n",
       "      <td>687.500000</td>\n",
       "      <td>0.004734</td>\n",
       "      <td>1</td>\n",
       "    </tr>\n",
       "    <tr>\n",
       "      <th>2015-02-04 18:04:59</th>\n",
       "      <td>23.000000</td>\n",
       "      <td>27.125000</td>\n",
       "      <td>419.0</td>\n",
       "      <td>686.000000</td>\n",
       "      <td>0.004715</td>\n",
       "      <td>1</td>\n",
       "    </tr>\n",
       "    <tr>\n",
       "      <th>2015-02-04 18:06:00</th>\n",
       "      <td>23.000000</td>\n",
       "      <td>27.125000</td>\n",
       "      <td>418.5</td>\n",
       "      <td>680.500000</td>\n",
       "      <td>0.004715</td>\n",
       "      <td>1</td>\n",
       "    </tr>\n",
       "    <tr>\n",
       "      <th>2015-02-04 18:07:00</th>\n",
       "      <td>23.000000</td>\n",
       "      <td>27.200000</td>\n",
       "      <td>0.0</td>\n",
       "      <td>681.500000</td>\n",
       "      <td>0.004728</td>\n",
       "      <td>0</td>\n",
       "    </tr>\n",
       "    <tr>\n",
       "      <th>2015-02-04 18:08:00</th>\n",
       "      <td>22.945000</td>\n",
       "      <td>27.290000</td>\n",
       "      <td>0.0</td>\n",
       "      <td>685.000000</td>\n",
       "      <td>0.004728</td>\n",
       "      <td>0</td>\n",
       "    </tr>\n",
       "    <tr>\n",
       "      <th>2015-02-04 18:08:59</th>\n",
       "      <td>22.945000</td>\n",
       "      <td>27.390000</td>\n",
       "      <td>0.0</td>\n",
       "      <td>685.000000</td>\n",
       "      <td>0.004745</td>\n",
       "      <td>0</td>\n",
       "    </tr>\n",
       "    <tr>\n",
       "      <th>2015-02-04 18:10:00</th>\n",
       "      <td>22.890000</td>\n",
       "      <td>27.390000</td>\n",
       "      <td>0.0</td>\n",
       "      <td>689.000000</td>\n",
       "      <td>0.004730</td>\n",
       "      <td>0</td>\n",
       "    </tr>\n",
       "    <tr>\n",
       "      <th>2015-02-04 18:10:59</th>\n",
       "      <td>22.890000</td>\n",
       "      <td>27.390000</td>\n",
       "      <td>0.0</td>\n",
       "      <td>689.500000</td>\n",
       "      <td>0.004730</td>\n",
       "      <td>0</td>\n",
       "    </tr>\n",
       "    <tr>\n",
       "      <th>2015-02-04 18:11:59</th>\n",
       "      <td>22.890000</td>\n",
       "      <td>27.390000</td>\n",
       "      <td>0.0</td>\n",
       "      <td>689.000000</td>\n",
       "      <td>0.004730</td>\n",
       "      <td>0</td>\n",
       "    </tr>\n",
       "    <tr>\n",
       "      <th>2015-02-04 18:13:00</th>\n",
       "      <td>22.890000</td>\n",
       "      <td>27.445000</td>\n",
       "      <td>0.0</td>\n",
       "      <td>691.000000</td>\n",
       "      <td>0.004739</td>\n",
       "      <td>0</td>\n",
       "    </tr>\n",
       "    <tr>\n",
       "      <th>2015-02-04 18:14:00</th>\n",
       "      <td>22.890000</td>\n",
       "      <td>27.500000</td>\n",
       "      <td>0.0</td>\n",
       "      <td>688.000000</td>\n",
       "      <td>0.004749</td>\n",
       "      <td>0</td>\n",
       "    </tr>\n",
       "    <tr>\n",
       "      <th>2015-02-04 18:15:00</th>\n",
       "      <td>22.890000</td>\n",
       "      <td>27.500000</td>\n",
       "      <td>0.0</td>\n",
       "      <td>689.500000</td>\n",
       "      <td>0.004749</td>\n",
       "      <td>0</td>\n",
       "    </tr>\n",
       "    <tr>\n",
       "      <th>2015-02-04 18:16:00</th>\n",
       "      <td>22.790000</td>\n",
       "      <td>27.445000</td>\n",
       "      <td>0.0</td>\n",
       "      <td>689.000000</td>\n",
       "      <td>0.004710</td>\n",
       "      <td>0</td>\n",
       "    </tr>\n",
       "    <tr>\n",
       "      <th>2015-02-04 18:16:59</th>\n",
       "      <td>22.790000</td>\n",
       "      <td>27.500000</td>\n",
       "      <td>0.0</td>\n",
       "      <td>685.666667</td>\n",
       "      <td>0.004720</td>\n",
       "      <td>0</td>\n",
       "    </tr>\n",
       "    <tr>\n",
       "      <th>2015-02-04 18:17:59</th>\n",
       "      <td>22.790000</td>\n",
       "      <td>27.500000</td>\n",
       "      <td>0.0</td>\n",
       "      <td>687.000000</td>\n",
       "      <td>0.004720</td>\n",
       "      <td>0</td>\n",
       "    </tr>\n",
       "    <tr>\n",
       "      <th>2015-02-04 18:19:00</th>\n",
       "      <td>22.790000</td>\n",
       "      <td>27.500000</td>\n",
       "      <td>0.0</td>\n",
       "      <td>688.000000</td>\n",
       "      <td>0.004720</td>\n",
       "      <td>0</td>\n",
       "    </tr>\n",
       "    <tr>\n",
       "      <th>2015-02-04 18:20:00</th>\n",
       "      <td>22.745000</td>\n",
       "      <td>27.500000</td>\n",
       "      <td>0.0</td>\n",
       "      <td>670.000000</td>\n",
       "      <td>0.004707</td>\n",
       "      <td>0</td>\n",
       "    </tr>\n",
       "    <tr>\n",
       "      <th>...</th>\n",
       "      <td>...</td>\n",
       "      <td>...</td>\n",
       "      <td>...</td>\n",
       "      <td>...</td>\n",
       "      <td>...</td>\n",
       "      <td>...</td>\n",
       "    </tr>\n",
       "    <tr>\n",
       "      <th>2015-02-10 09:04:00</th>\n",
       "      <td>20.700000</td>\n",
       "      <td>34.417500</td>\n",
       "      <td>419.0</td>\n",
       "      <td>568.750000</td>\n",
       "      <td>0.005203</td>\n",
       "      <td>1</td>\n",
       "    </tr>\n",
       "    <tr>\n",
       "      <th>2015-02-10 09:04:59</th>\n",
       "      <td>20.700000</td>\n",
       "      <td>34.090000</td>\n",
       "      <td>419.0</td>\n",
       "      <td>556.666667</td>\n",
       "      <td>0.005153</td>\n",
       "      <td>1</td>\n",
       "    </tr>\n",
       "    <tr>\n",
       "      <th>2015-02-10 09:06:00</th>\n",
       "      <td>20.700000</td>\n",
       "      <td>34.296667</td>\n",
       "      <td>419.0</td>\n",
       "      <td>548.000000</td>\n",
       "      <td>0.005184</td>\n",
       "      <td>1</td>\n",
       "    </tr>\n",
       "    <tr>\n",
       "      <th>2015-02-10 09:07:00</th>\n",
       "      <td>20.730000</td>\n",
       "      <td>34.466667</td>\n",
       "      <td>419.0</td>\n",
       "      <td>563.333333</td>\n",
       "      <td>0.005220</td>\n",
       "      <td>1</td>\n",
       "    </tr>\n",
       "    <tr>\n",
       "      <th>2015-02-10 09:08:00</th>\n",
       "      <td>20.745000</td>\n",
       "      <td>34.567500</td>\n",
       "      <td>426.0</td>\n",
       "      <td>593.750000</td>\n",
       "      <td>0.005240</td>\n",
       "      <td>1</td>\n",
       "    </tr>\n",
       "    <tr>\n",
       "      <th>2015-02-10 09:08:59</th>\n",
       "      <td>20.767500</td>\n",
       "      <td>34.717500</td>\n",
       "      <td>422.5</td>\n",
       "      <td>600.750000</td>\n",
       "      <td>0.005270</td>\n",
       "      <td>1</td>\n",
       "    </tr>\n",
       "    <tr>\n",
       "      <th>2015-02-10 09:10:00</th>\n",
       "      <td>20.790000</td>\n",
       "      <td>35.090000</td>\n",
       "      <td>426.0</td>\n",
       "      <td>623.000000</td>\n",
       "      <td>0.005335</td>\n",
       "      <td>1</td>\n",
       "    </tr>\n",
       "    <tr>\n",
       "      <th>2015-02-10 09:10:59</th>\n",
       "      <td>20.790000</td>\n",
       "      <td>34.972500</td>\n",
       "      <td>433.0</td>\n",
       "      <td>631.000000</td>\n",
       "      <td>0.005317</td>\n",
       "      <td>1</td>\n",
       "    </tr>\n",
       "    <tr>\n",
       "      <th>2015-02-10 09:11:59</th>\n",
       "      <td>20.790000</td>\n",
       "      <td>34.826667</td>\n",
       "      <td>433.0</td>\n",
       "      <td>636.000000</td>\n",
       "      <td>0.005295</td>\n",
       "      <td>1</td>\n",
       "    </tr>\n",
       "    <tr>\n",
       "      <th>2015-02-10 09:13:00</th>\n",
       "      <td>20.840000</td>\n",
       "      <td>35.195000</td>\n",
       "      <td>433.0</td>\n",
       "      <td>636.750000</td>\n",
       "      <td>0.005368</td>\n",
       "      <td>1</td>\n",
       "    </tr>\n",
       "    <tr>\n",
       "      <th>2015-02-10 09:14:00</th>\n",
       "      <td>20.890000</td>\n",
       "      <td>35.300000</td>\n",
       "      <td>433.0</td>\n",
       "      <td>663.000000</td>\n",
       "      <td>0.005401</td>\n",
       "      <td>1</td>\n",
       "    </tr>\n",
       "    <tr>\n",
       "      <th>2015-02-10 09:15:00</th>\n",
       "      <td>20.856667</td>\n",
       "      <td>35.096667</td>\n",
       "      <td>433.0</td>\n",
       "      <td>665.333333</td>\n",
       "      <td>0.005358</td>\n",
       "      <td>1</td>\n",
       "    </tr>\n",
       "    <tr>\n",
       "      <th>2015-02-10 09:16:00</th>\n",
       "      <td>20.890000</td>\n",
       "      <td>35.320000</td>\n",
       "      <td>433.0</td>\n",
       "      <td>669.500000</td>\n",
       "      <td>0.005404</td>\n",
       "      <td>1</td>\n",
       "    </tr>\n",
       "    <tr>\n",
       "      <th>2015-02-10 09:16:59</th>\n",
       "      <td>20.917500</td>\n",
       "      <td>35.475000</td>\n",
       "      <td>433.0</td>\n",
       "      <td>679.250000</td>\n",
       "      <td>0.005437</td>\n",
       "      <td>1</td>\n",
       "    </tr>\n",
       "    <tr>\n",
       "      <th>2015-02-10 09:17:59</th>\n",
       "      <td>20.890000</td>\n",
       "      <td>35.400000</td>\n",
       "      <td>433.0</td>\n",
       "      <td>684.666667</td>\n",
       "      <td>0.005416</td>\n",
       "      <td>1</td>\n",
       "    </tr>\n",
       "    <tr>\n",
       "      <th>2015-02-10 09:19:00</th>\n",
       "      <td>20.917500</td>\n",
       "      <td>35.717500</td>\n",
       "      <td>433.0</td>\n",
       "      <td>706.250000</td>\n",
       "      <td>0.005474</td>\n",
       "      <td>1</td>\n",
       "    </tr>\n",
       "    <tr>\n",
       "      <th>2015-02-10 09:20:00</th>\n",
       "      <td>20.958750</td>\n",
       "      <td>35.683750</td>\n",
       "      <td>433.0</td>\n",
       "      <td>712.625000</td>\n",
       "      <td>0.005483</td>\n",
       "      <td>1</td>\n",
       "    </tr>\n",
       "    <tr>\n",
       "      <th>2015-02-10 09:21:00</th>\n",
       "      <td>21.000000</td>\n",
       "      <td>35.650000</td>\n",
       "      <td>433.0</td>\n",
       "      <td>719.000000</td>\n",
       "      <td>0.005492</td>\n",
       "      <td>1</td>\n",
       "    </tr>\n",
       "    <tr>\n",
       "      <th>2015-02-10 09:22:00</th>\n",
       "      <td>21.000000</td>\n",
       "      <td>35.700000</td>\n",
       "      <td>433.0</td>\n",
       "      <td>730.250000</td>\n",
       "      <td>0.005500</td>\n",
       "      <td>1</td>\n",
       "    </tr>\n",
       "    <tr>\n",
       "      <th>2015-02-10 09:23:00</th>\n",
       "      <td>21.000000</td>\n",
       "      <td>35.760000</td>\n",
       "      <td>433.0</td>\n",
       "      <td>739.000000</td>\n",
       "      <td>0.005509</td>\n",
       "      <td>1</td>\n",
       "    </tr>\n",
       "    <tr>\n",
       "      <th>2015-02-10 09:23:59</th>\n",
       "      <td>21.000000</td>\n",
       "      <td>35.850000</td>\n",
       "      <td>433.0</td>\n",
       "      <td>756.250000</td>\n",
       "      <td>0.005523</td>\n",
       "      <td>1</td>\n",
       "    </tr>\n",
       "    <tr>\n",
       "      <th>2015-02-10 09:24:59</th>\n",
       "      <td>21.000000</td>\n",
       "      <td>35.700000</td>\n",
       "      <td>433.0</td>\n",
       "      <td>761.000000</td>\n",
       "      <td>0.005500</td>\n",
       "      <td>1</td>\n",
       "    </tr>\n",
       "    <tr>\n",
       "      <th>2015-02-10 09:26:00</th>\n",
       "      <td>21.025000</td>\n",
       "      <td>35.950000</td>\n",
       "      <td>433.0</td>\n",
       "      <td>763.000000</td>\n",
       "      <td>0.005547</td>\n",
       "      <td>1</td>\n",
       "    </tr>\n",
       "    <tr>\n",
       "      <th>2015-02-10 09:27:00</th>\n",
       "      <td>21.000000</td>\n",
       "      <td>35.860000</td>\n",
       "      <td>433.0</td>\n",
       "      <td>771.333333</td>\n",
       "      <td>0.005525</td>\n",
       "      <td>1</td>\n",
       "    </tr>\n",
       "    <tr>\n",
       "      <th>2015-02-10 09:28:00</th>\n",
       "      <td>21.050000</td>\n",
       "      <td>36.050000</td>\n",
       "      <td>433.0</td>\n",
       "      <td>780.250000</td>\n",
       "      <td>0.005571</td>\n",
       "      <td>1</td>\n",
       "    </tr>\n",
       "    <tr>\n",
       "      <th>2015-02-10 09:29:00</th>\n",
       "      <td>21.050000</td>\n",
       "      <td>36.097500</td>\n",
       "      <td>433.0</td>\n",
       "      <td>787.250000</td>\n",
       "      <td>0.005579</td>\n",
       "      <td>1</td>\n",
       "    </tr>\n",
       "    <tr>\n",
       "      <th>2015-02-10 09:29:59</th>\n",
       "      <td>21.050000</td>\n",
       "      <td>35.995000</td>\n",
       "      <td>433.0</td>\n",
       "      <td>789.500000</td>\n",
       "      <td>0.005563</td>\n",
       "      <td>1</td>\n",
       "    </tr>\n",
       "    <tr>\n",
       "      <th>2015-02-10 09:30:59</th>\n",
       "      <td>21.100000</td>\n",
       "      <td>36.095000</td>\n",
       "      <td>433.0</td>\n",
       "      <td>798.500000</td>\n",
       "      <td>0.005596</td>\n",
       "      <td>1</td>\n",
       "    </tr>\n",
       "    <tr>\n",
       "      <th>2015-02-10 09:32:00</th>\n",
       "      <td>21.100000</td>\n",
       "      <td>36.260000</td>\n",
       "      <td>433.0</td>\n",
       "      <td>820.333333</td>\n",
       "      <td>0.005621</td>\n",
       "      <td>1</td>\n",
       "    </tr>\n",
       "    <tr>\n",
       "      <th>2015-02-10 09:33:00</th>\n",
       "      <td>21.100000</td>\n",
       "      <td>36.200000</td>\n",
       "      <td>447.0</td>\n",
       "      <td>821.000000</td>\n",
       "      <td>0.005612</td>\n",
       "      <td>1</td>\n",
       "    </tr>\n",
       "  </tbody>\n",
       "</table>\n",
       "<p>8143 rows × 6 columns</p>\n",
       "</div>"
      ],
      "text/plain": [
       "                     Temperature   Humidity  Light         CO2  HumidityRatio  \\\n",
       "date                                                                            \n",
       "2015-02-04 17:51:00    23.180000  27.272000  426.0  721.250000       0.004793   \n",
       "2015-02-04 17:51:59    23.150000  27.267500  429.5  714.000000       0.004783   \n",
       "2015-02-04 17:53:00    23.150000  27.245000  426.0  713.500000       0.004779   \n",
       "2015-02-04 17:54:00    23.150000  27.200000  426.0  708.250000       0.004772   \n",
       "2015-02-04 17:55:00    23.100000  27.200000  426.0  704.500000       0.004757   \n",
       "2015-02-04 17:55:59    23.100000  27.200000  419.0  701.000000       0.004757   \n",
       "2015-02-04 17:57:00    23.100000  27.200000  419.0  701.666667       0.004757   \n",
       "2015-02-04 17:57:59    23.100000  27.200000  419.0  699.000000       0.004757   \n",
       "2015-02-04 17:58:59    23.100000  27.200000  419.0  689.333333       0.004757   \n",
       "2015-02-04 18:00:00    23.075000  27.175000  419.0  688.000000       0.004745   \n",
       "2015-02-04 18:01:00    23.075000  27.150000  419.0  690.250000       0.004741   \n",
       "2015-02-04 18:02:00    23.100000  27.100000  419.0  691.000000       0.004739   \n",
       "2015-02-04 18:03:00    23.100000  27.166667  419.0  683.500000       0.004751   \n",
       "2015-02-04 18:04:00    23.050000  27.150000  419.0  687.500000       0.004734   \n",
       "2015-02-04 18:04:59    23.000000  27.125000  419.0  686.000000       0.004715   \n",
       "2015-02-04 18:06:00    23.000000  27.125000  418.5  680.500000       0.004715   \n",
       "2015-02-04 18:07:00    23.000000  27.200000    0.0  681.500000       0.004728   \n",
       "2015-02-04 18:08:00    22.945000  27.290000    0.0  685.000000       0.004728   \n",
       "2015-02-04 18:08:59    22.945000  27.390000    0.0  685.000000       0.004745   \n",
       "2015-02-04 18:10:00    22.890000  27.390000    0.0  689.000000       0.004730   \n",
       "2015-02-04 18:10:59    22.890000  27.390000    0.0  689.500000       0.004730   \n",
       "2015-02-04 18:11:59    22.890000  27.390000    0.0  689.000000       0.004730   \n",
       "2015-02-04 18:13:00    22.890000  27.445000    0.0  691.000000       0.004739   \n",
       "2015-02-04 18:14:00    22.890000  27.500000    0.0  688.000000       0.004749   \n",
       "2015-02-04 18:15:00    22.890000  27.500000    0.0  689.500000       0.004749   \n",
       "2015-02-04 18:16:00    22.790000  27.445000    0.0  689.000000       0.004710   \n",
       "2015-02-04 18:16:59    22.790000  27.500000    0.0  685.666667       0.004720   \n",
       "2015-02-04 18:17:59    22.790000  27.500000    0.0  687.000000       0.004720   \n",
       "2015-02-04 18:19:00    22.790000  27.500000    0.0  688.000000       0.004720   \n",
       "2015-02-04 18:20:00    22.745000  27.500000    0.0  670.000000       0.004707   \n",
       "...                          ...        ...    ...         ...            ...   \n",
       "2015-02-10 09:04:00    20.700000  34.417500  419.0  568.750000       0.005203   \n",
       "2015-02-10 09:04:59    20.700000  34.090000  419.0  556.666667       0.005153   \n",
       "2015-02-10 09:06:00    20.700000  34.296667  419.0  548.000000       0.005184   \n",
       "2015-02-10 09:07:00    20.730000  34.466667  419.0  563.333333       0.005220   \n",
       "2015-02-10 09:08:00    20.745000  34.567500  426.0  593.750000       0.005240   \n",
       "2015-02-10 09:08:59    20.767500  34.717500  422.5  600.750000       0.005270   \n",
       "2015-02-10 09:10:00    20.790000  35.090000  426.0  623.000000       0.005335   \n",
       "2015-02-10 09:10:59    20.790000  34.972500  433.0  631.000000       0.005317   \n",
       "2015-02-10 09:11:59    20.790000  34.826667  433.0  636.000000       0.005295   \n",
       "2015-02-10 09:13:00    20.840000  35.195000  433.0  636.750000       0.005368   \n",
       "2015-02-10 09:14:00    20.890000  35.300000  433.0  663.000000       0.005401   \n",
       "2015-02-10 09:15:00    20.856667  35.096667  433.0  665.333333       0.005358   \n",
       "2015-02-10 09:16:00    20.890000  35.320000  433.0  669.500000       0.005404   \n",
       "2015-02-10 09:16:59    20.917500  35.475000  433.0  679.250000       0.005437   \n",
       "2015-02-10 09:17:59    20.890000  35.400000  433.0  684.666667       0.005416   \n",
       "2015-02-10 09:19:00    20.917500  35.717500  433.0  706.250000       0.005474   \n",
       "2015-02-10 09:20:00    20.958750  35.683750  433.0  712.625000       0.005483   \n",
       "2015-02-10 09:21:00    21.000000  35.650000  433.0  719.000000       0.005492   \n",
       "2015-02-10 09:22:00    21.000000  35.700000  433.0  730.250000       0.005500   \n",
       "2015-02-10 09:23:00    21.000000  35.760000  433.0  739.000000       0.005509   \n",
       "2015-02-10 09:23:59    21.000000  35.850000  433.0  756.250000       0.005523   \n",
       "2015-02-10 09:24:59    21.000000  35.700000  433.0  761.000000       0.005500   \n",
       "2015-02-10 09:26:00    21.025000  35.950000  433.0  763.000000       0.005547   \n",
       "2015-02-10 09:27:00    21.000000  35.860000  433.0  771.333333       0.005525   \n",
       "2015-02-10 09:28:00    21.050000  36.050000  433.0  780.250000       0.005571   \n",
       "2015-02-10 09:29:00    21.050000  36.097500  433.0  787.250000       0.005579   \n",
       "2015-02-10 09:29:59    21.050000  35.995000  433.0  789.500000       0.005563   \n",
       "2015-02-10 09:30:59    21.100000  36.095000  433.0  798.500000       0.005596   \n",
       "2015-02-10 09:32:00    21.100000  36.260000  433.0  820.333333       0.005621   \n",
       "2015-02-10 09:33:00    21.100000  36.200000  447.0  821.000000       0.005612   \n",
       "\n",
       "                     Occupancy  \n",
       "date                            \n",
       "2015-02-04 17:51:00          1  \n",
       "2015-02-04 17:51:59          1  \n",
       "2015-02-04 17:53:00          1  \n",
       "2015-02-04 17:54:00          1  \n",
       "2015-02-04 17:55:00          1  \n",
       "2015-02-04 17:55:59          1  \n",
       "2015-02-04 17:57:00          1  \n",
       "2015-02-04 17:57:59          1  \n",
       "2015-02-04 17:58:59          1  \n",
       "2015-02-04 18:00:00          1  \n",
       "2015-02-04 18:01:00          1  \n",
       "2015-02-04 18:02:00          1  \n",
       "2015-02-04 18:03:00          1  \n",
       "2015-02-04 18:04:00          1  \n",
       "2015-02-04 18:04:59          1  \n",
       "2015-02-04 18:06:00          1  \n",
       "2015-02-04 18:07:00          0  \n",
       "2015-02-04 18:08:00          0  \n",
       "2015-02-04 18:08:59          0  \n",
       "2015-02-04 18:10:00          0  \n",
       "2015-02-04 18:10:59          0  \n",
       "2015-02-04 18:11:59          0  \n",
       "2015-02-04 18:13:00          0  \n",
       "2015-02-04 18:14:00          0  \n",
       "2015-02-04 18:15:00          0  \n",
       "2015-02-04 18:16:00          0  \n",
       "2015-02-04 18:16:59          0  \n",
       "2015-02-04 18:17:59          0  \n",
       "2015-02-04 18:19:00          0  \n",
       "2015-02-04 18:20:00          0  \n",
       "...                        ...  \n",
       "2015-02-10 09:04:00          1  \n",
       "2015-02-10 09:04:59          1  \n",
       "2015-02-10 09:06:00          1  \n",
       "2015-02-10 09:07:00          1  \n",
       "2015-02-10 09:08:00          1  \n",
       "2015-02-10 09:08:59          1  \n",
       "2015-02-10 09:10:00          1  \n",
       "2015-02-10 09:10:59          1  \n",
       "2015-02-10 09:11:59          1  \n",
       "2015-02-10 09:13:00          1  \n",
       "2015-02-10 09:14:00          1  \n",
       "2015-02-10 09:15:00          1  \n",
       "2015-02-10 09:16:00          1  \n",
       "2015-02-10 09:16:59          1  \n",
       "2015-02-10 09:17:59          1  \n",
       "2015-02-10 09:19:00          1  \n",
       "2015-02-10 09:20:00          1  \n",
       "2015-02-10 09:21:00          1  \n",
       "2015-02-10 09:22:00          1  \n",
       "2015-02-10 09:23:00          1  \n",
       "2015-02-10 09:23:59          1  \n",
       "2015-02-10 09:24:59          1  \n",
       "2015-02-10 09:26:00          1  \n",
       "2015-02-10 09:27:00          1  \n",
       "2015-02-10 09:28:00          1  \n",
       "2015-02-10 09:29:00          1  \n",
       "2015-02-10 09:29:59          1  \n",
       "2015-02-10 09:30:59          1  \n",
       "2015-02-10 09:32:00          1  \n",
       "2015-02-10 09:33:00          1  \n",
       "\n",
       "[8143 rows x 6 columns]"
      ]
     },
     "execution_count": 41,
     "metadata": {},
     "output_type": "execute_result"
    }
   ],
   "source": [
    "#Create new pandas series data frame with Date-Time object as index:\n",
    "time_Index_data = occupancy\n",
    "time_Index_data['date'] = pd.to_datetime(time_Index_data['date'])\n",
    "\n",
    "time_Index_data = time_Index_data.set_index('date')\n",
    "time_Index_data"
   ]
  },
  {
   "cell_type": "code",
   "execution_count": 32,
   "metadata": {},
   "outputs": [
    {
     "data": {
      "text/plain": [
       "DatetimeIndex(['2015-02-04 17:51:00', '2015-02-04 17:51:59',\n",
       "               '2015-02-04 17:53:00', '2015-02-04 17:54:00',\n",
       "               '2015-02-04 17:55:00', '2015-02-04 17:55:59',\n",
       "               '2015-02-04 17:57:00', '2015-02-04 17:57:59',\n",
       "               '2015-02-04 17:58:59', '2015-02-04 18:00:00',\n",
       "               ...\n",
       "               '2015-02-10 09:23:59', '2015-02-10 09:24:59',\n",
       "               '2015-02-10 09:26:00', '2015-02-10 09:27:00',\n",
       "               '2015-02-10 09:28:00', '2015-02-10 09:29:00',\n",
       "               '2015-02-10 09:29:59', '2015-02-10 09:30:59',\n",
       "               '2015-02-10 09:32:00', '2015-02-10 09:33:00'],\n",
       "              dtype='datetime64[ns]', name=u'date', length=8143, freq=None)"
      ]
     },
     "execution_count": 32,
     "metadata": {},
     "output_type": "execute_result"
    }
   ],
   "source": [
    "time_Index_data.index"
   ]
  },
  {
   "cell_type": "code",
   "execution_count": 33,
   "metadata": {
    "scrolled": true
   },
   "outputs": [
    {
     "data": {
      "text/plain": [
       "date\n",
       "2015-02-04 17:00:00    423.277778\n",
       "2015-02-04 18:00:00     48.875000\n",
       "2015-02-04 19:00:00      0.000000\n",
       "2015-02-04 20:00:00      0.000000\n",
       "2015-02-04 21:00:00      0.000000\n",
       "2015-02-04 22:00:00      0.000000\n",
       "2015-02-04 23:00:00      0.000000\n",
       "2015-02-05 00:00:00      0.000000\n",
       "2015-02-05 01:00:00      0.000000\n",
       "2015-02-05 02:00:00      0.000000\n",
       "2015-02-05 03:00:00      0.000000\n",
       "2015-02-05 04:00:00      0.000000\n",
       "2015-02-05 05:00:00      0.000000\n",
       "2015-02-05 06:00:00      0.000000\n",
       "2015-02-05 07:00:00    153.568852\n",
       "2015-02-05 08:00:00    428.956497\n",
       "2015-02-05 09:00:00    476.809722\n",
       "2015-02-05 10:00:00    458.602459\n",
       "2015-02-05 11:00:00    452.514124\n",
       "2015-02-05 12:00:00    569.229722\n",
       "2015-02-05 13:00:00    317.834973\n",
       "2015-02-05 14:00:00    467.630508\n",
       "2015-02-05 15:00:00    481.280556\n",
       "2015-02-05 16:00:00    442.478142\n",
       "2015-02-05 17:00:00    433.500000\n",
       "2015-02-05 18:00:00     32.300000\n",
       "2015-02-05 19:00:00      0.000000\n",
       "2015-02-05 20:00:00      0.000000\n",
       "2015-02-05 21:00:00      0.000000\n",
       "2015-02-05 22:00:00      0.000000\n",
       "                          ...    \n",
       "2015-02-09 04:00:00      0.000000\n",
       "2015-02-09 05:00:00      0.000000\n",
       "2015-02-09 06:00:00      0.000000\n",
       "2015-02-09 07:00:00      0.000000\n",
       "2015-02-09 08:00:00    100.100282\n",
       "2015-02-09 09:00:00    422.493056\n",
       "2015-02-09 10:00:00    443.561475\n",
       "2015-02-09 11:00:00    473.864407\n",
       "2015-02-09 12:00:00    474.493056\n",
       "2015-02-09 13:00:00    290.520492\n",
       "2015-02-09 14:00:00    473.293785\n",
       "2015-02-09 15:00:00    444.733333\n",
       "2015-02-09 16:00:00    439.091530\n",
       "2015-02-09 17:00:00    428.183616\n",
       "2015-02-09 18:00:00     31.969444\n",
       "2015-02-09 19:00:00      0.000000\n",
       "2015-02-09 20:00:00      0.000000\n",
       "2015-02-09 21:00:00      0.000000\n",
       "2015-02-09 22:00:00      0.000000\n",
       "2015-02-09 23:00:00      0.000000\n",
       "2015-02-10 00:00:00      0.000000\n",
       "2015-02-10 01:00:00      0.000000\n",
       "2015-02-10 02:00:00      0.000000\n",
       "2015-02-10 03:00:00      0.000000\n",
       "2015-02-10 04:00:00      0.000000\n",
       "2015-02-10 05:00:00      0.000000\n",
       "2015-02-10 06:00:00      0.000000\n",
       "2015-02-10 07:00:00      0.000000\n",
       "2015-02-10 08:00:00    157.672316\n",
       "2015-02-10 09:00:00    429.397059\n",
       "Freq: H, Name: Light, Length: 137, dtype: float64"
      ]
     },
     "execution_count": 33,
     "metadata": {},
     "output_type": "execute_result"
    }
   ],
   "source": [
    "#resample data at hourly frequency\n",
    "time_Index_data['Light'].resample('H').mean()  #To mention in discusssion: if we resampled at a lower frequency (i.e hourly, some data might have been lost in modelling)"
   ]
  },
  {
   "cell_type": "code",
   "execution_count": 49,
   "metadata": {},
   "outputs": [
    {
     "data": {
      "text/plain": [
       "Text(0,0.5,'Light (lux)')"
      ]
     },
     "execution_count": 49,
     "metadata": {},
     "output_type": "execute_result"
    },
    {
     "data": {
      "image/png": "[encoded data removed]",
      "text/plain": [
       "<Figure size 1152x288 with 1 Axes>"
      ]
     },
     "metadata": {},
     "output_type": "display_data"
    }
   ],
   "source": [
    "time_Index_data['Light'].plot(linewidth=0.5)\n",
    "plt.title(\"Date vs Light\",fontweight=\"bold\", fontsize = 14)\n",
    "plt.ylabel('Light (lux)', fontweight=\"bold\", fontsize = 12)"
   ]
  },
  {
   "cell_type": "code",
   "execution_count": null,
   "metadata": {},
   "outputs": [],
   "source": [
    "Light = time_Index_data.loc[index > 2015-02-05, 'date'].sort_values()"
   ]
  },
  {
   "cell_type": "code",
   "execution_count": null,
   "metadata": {
    "scrolled": true
   },
   "outputs": [],
   "source": [
    "Light = occupancy.loc['Light'].sort_values() #Gives 688.5 as next highest value behind max\n",
    "Light\n",
    "Light[Light == 688.5].index[0]  # <- This max value is at index, 1113 \n",
    "occupancy.loc[1113,'date']"
   ]
  },
  {
   "cell_type": "code",
   "execution_count": null,
   "metadata": {},
   "outputs": [],
   "source": [
    "#Light spike at 8/2 seems to be an anomaly/ outlier. Treat by replacement.\n",
    "#find min/max of the variables:\n",
    "print np.max(occupancy.loc[:,'Light'])  #Gives 688.5 as max value\n",
    "Light = occupancy['Light']\n",
    "Light[Light == 696.5].index[0]  # <- This max value is at index, 1107\n",
    "occupancy.loc[1107,'date']"
   ]
  },
  {
   "cell_type": "code",
   "execution_count": 50,
   "metadata": {},
   "outputs": [
    {
     "data": {
      "text/plain": [
       "Text(0,0.5,'Temperature (oC)')"
      ]
     },
     "execution_count": 50,
     "metadata": {},
     "output_type": "execute_result"
    },
    {
     "data": {
      "image/png": "[encoded data removed]",
      "text/plain": [
       "<Figure size 1152x288 with 1 Axes>"
      ]
     },
     "metadata": {},
     "output_type": "display_data"
    }
   ],
   "source": [
    "#Plot time vs. temperature\n",
    "time_Index_data['Temperature'].plot(linewidth=0.5)\n",
    "plt.title(\"Date vs Temperature\",fontweight=\"bold\", fontsize = 14)\n",
    "plt.ylabel('Temperature (oC)', fontweight=\"bold\", fontsize = 12)\n"
   ]
  },
  {
   "cell_type": "code",
   "execution_count": 52,
   "metadata": {},
   "outputs": [
    {
     "data": {
      "text/plain": [
       "Text(0,0.5,'Relative Humdity(%)')"
      ]
     },
     "execution_count": 52,
     "metadata": {},
     "output_type": "execute_result"
    },
    {
     "data": {
      "image/png": "[encoded data removed]",
      "text/plain": [
       "<Figure size 1152x288 with 1 Axes>"
      ]
     },
     "metadata": {},
     "output_type": "display_data"
    }
   ],
   "source": [
    "#Plot time vs. humidity\n",
    "time_Index_data['Humidity'].plot(linewidth=0.5)\n",
    "plt.title(\"Date vs Humidity\",fontweight=\"bold\", fontsize = 14)\n",
    "plt.ylabel('Relative Humdity(%)', fontweight=\"bold\", fontsize = 12)"
   ]
  },
  {
   "cell_type": "code",
   "execution_count": 53,
   "metadata": {},
   "outputs": [
    {
     "data": {
      "text/plain": [
       "<matplotlib.axes._subplots.AxesSubplot at 0x1a1aacc750>"
      ]
     },
     "execution_count": 53,
     "metadata": {},
     "output_type": "execute_result"
    },
    {
     "data": {
      "image/png": "[encoded data removed]",
      "text/plain": [
       "<Figure size 1152x288 with 1 Axes>"
      ]
     },
     "metadata": {},
     "output_type": "display_data"
    }
   ],
   "source": [
    "#Plot time vs. CO2\n",
    "time_Index_data['CO2'].plot(linewidth=0.5)\n",
    "plt.title(\"Date vs CO2\",fontweight=\"bold\", fontsize = 14)\n",
    "plt.ylabel('CO2 (ppm)', fontweight=\"bold\", fontsize = 12)"
   ]
  },
  {
   "cell_type": "code",
   "execution_count": 54,
   "metadata": {},
   "outputs": [
    {
     "data": {
      "text/plain": [
       "Text(0,0.5,'Temperature')"
      ]
     },
     "execution_count": 54,
     "metadata": {},
     "output_type": "execute_result"
    },
    {
     "data": {
      "image/png": "[encoded data removed]",
      "text/plain": [
       "<Figure size 1152x288 with 1 Axes>"
      ]
     },
     "metadata": {},
     "output_type": "display_data"
    }
   ],
   "source": [
    "#CO2 versus temperature\n",
    "occupancy.plot(kind = 'scatter', x=1,y=2)\n",
    "plt.title(\"CO2 vs temperature\")\n",
    "plt.xlabel('CO2')\n",
    "plt.ylabel('Temperature')"
   ]
  },
  {
   "cell_type": "code",
   "execution_count": 55,
   "metadata": {},
   "outputs": [],
   "source": [
    "#choose variables to use\n",
    "VarsModel = occupancy[[\"CO2\", \"Temperature\", \"Humidity\", \"Light\"]]\n",
    "Target =occupancy[\"Occupancy\"]"
   ]
  },
  {
   "cell_type": "markdown",
   "metadata": {},
   "source": [
    "# Data Model - Decision Tree"
   ]
  },
  {
   "cell_type": "code",
   "execution_count": 56,
   "metadata": {},
   "outputs": [],
   "source": [
    "from sklearn.model_selection import train_test_split"
   ]
  },
  {
   "cell_type": "code",
   "execution_count": 57,
   "metadata": {},
   "outputs": [],
   "source": [
    "X_train, X_test, y_train, y_test = train_test_split(VarsModel,Target, test_size = 0.4, random_state = 0)"
   ]
  },
  {
   "cell_type": "code",
   "execution_count": 58,
   "metadata": {
    "scrolled": true
   },
   "outputs": [
    {
     "data": {
      "text/html": [
       "<div>\n",
       "<style scoped>\n",
       "    .dataframe tbody tr th:only-of-type {\n",
       "        vertical-align: middle;\n",
       "    }\n",
       "\n",
       "    .dataframe tbody tr th {\n",
       "        vertical-align: top;\n",
       "    }\n",
       "\n",
       "    .dataframe thead th {\n",
       "        text-align: right;\n",
       "    }\n",
       "</style>\n",
       "<table border=\"1\" class=\"dataframe\">\n",
       "  <thead>\n",
       "    <tr style=\"text-align: right;\">\n",
       "      <th></th>\n",
       "      <th>CO2</th>\n",
       "      <th>Temperature</th>\n",
       "      <th>Humidity</th>\n",
       "      <th>Light</th>\n",
       "    </tr>\n",
       "  </thead>\n",
       "  <tbody>\n",
       "    <tr>\n",
       "      <th>650</th>\n",
       "      <td>440.000000</td>\n",
       "      <td>21.000000</td>\n",
       "      <td>24.000000</td>\n",
       "      <td>0.000000</td>\n",
       "    </tr>\n",
       "    <tr>\n",
       "      <th>6473</th>\n",
       "      <td>464.333333</td>\n",
       "      <td>19.426667</td>\n",
       "      <td>26.856667</td>\n",
       "      <td>0.000000</td>\n",
       "    </tr>\n",
       "    <tr>\n",
       "      <th>6711</th>\n",
       "      <td>921.500000</td>\n",
       "      <td>20.472500</td>\n",
       "      <td>30.917500</td>\n",
       "      <td>433.000000</td>\n",
       "    </tr>\n",
       "    <tr>\n",
       "      <th>1582</th>\n",
       "      <td>484.500000</td>\n",
       "      <td>21.200000</td>\n",
       "      <td>19.290000</td>\n",
       "      <td>0.000000</td>\n",
       "    </tr>\n",
       "    <tr>\n",
       "      <th>1959</th>\n",
       "      <td>438.500000</td>\n",
       "      <td>20.550000</td>\n",
       "      <td>19.445000</td>\n",
       "      <td>0.000000</td>\n",
       "    </tr>\n",
       "    <tr>\n",
       "      <th>3978</th>\n",
       "      <td>455.250000</td>\n",
       "      <td>22.890000</td>\n",
       "      <td>17.650000</td>\n",
       "      <td>342.750000</td>\n",
       "    </tr>\n",
       "    <tr>\n",
       "      <th>3702</th>\n",
       "      <td>446.000000</td>\n",
       "      <td>19.650000</td>\n",
       "      <td>19.340000</td>\n",
       "      <td>0.000000</td>\n",
       "    </tr>\n",
       "    <tr>\n",
       "      <th>1286</th>\n",
       "      <td>1102.500000</td>\n",
       "      <td>22.600000</td>\n",
       "      <td>28.390000</td>\n",
       "      <td>489.000000</td>\n",
       "    </tr>\n",
       "    <tr>\n",
       "      <th>5380</th>\n",
       "      <td>435.500000</td>\n",
       "      <td>19.100000</td>\n",
       "      <td>30.890000</td>\n",
       "      <td>13.000000</td>\n",
       "    </tr>\n",
       "    <tr>\n",
       "      <th>7833</th>\n",
       "      <td>447.250000</td>\n",
       "      <td>20.100000</td>\n",
       "      <td>33.000000</td>\n",
       "      <td>0.000000</td>\n",
       "    </tr>\n",
       "    <tr>\n",
       "      <th>690</th>\n",
       "      <td>449.000000</td>\n",
       "      <td>20.945000</td>\n",
       "      <td>23.500000</td>\n",
       "      <td>0.000000</td>\n",
       "    </tr>\n",
       "    <tr>\n",
       "      <th>3428</th>\n",
       "      <td>435.000000</td>\n",
       "      <td>19.890000</td>\n",
       "      <td>19.000000</td>\n",
       "      <td>0.000000</td>\n",
       "    </tr>\n",
       "    <tr>\n",
       "      <th>3168</th>\n",
       "      <td>441.500000</td>\n",
       "      <td>20.050000</td>\n",
       "      <td>18.890000</td>\n",
       "      <td>0.000000</td>\n",
       "    </tr>\n",
       "    <tr>\n",
       "      <th>4763</th>\n",
       "      <td>438.000000</td>\n",
       "      <td>19.500000</td>\n",
       "      <td>30.200000</td>\n",
       "      <td>0.000000</td>\n",
       "    </tr>\n",
       "    <tr>\n",
       "      <th>4236</th>\n",
       "      <td>439.500000</td>\n",
       "      <td>20.890000</td>\n",
       "      <td>19.790000</td>\n",
       "      <td>6.000000</td>\n",
       "    </tr>\n",
       "    <tr>\n",
       "      <th>4009</th>\n",
       "      <td>453.500000</td>\n",
       "      <td>23.100000</td>\n",
       "      <td>17.290000</td>\n",
       "      <td>310.500000</td>\n",
       "    </tr>\n",
       "    <tr>\n",
       "      <th>4509</th>\n",
       "      <td>444.000000</td>\n",
       "      <td>19.890000</td>\n",
       "      <td>26.290000</td>\n",
       "      <td>0.000000</td>\n",
       "    </tr>\n",
       "    <tr>\n",
       "      <th>539</th>\n",
       "      <td>437.333333</td>\n",
       "      <td>21.066667</td>\n",
       "      <td>24.856667</td>\n",
       "      <td>0.000000</td>\n",
       "    </tr>\n",
       "    <tr>\n",
       "      <th>640</th>\n",
       "      <td>441.500000</td>\n",
       "      <td>20.890000</td>\n",
       "      <td>24.200000</td>\n",
       "      <td>0.000000</td>\n",
       "    </tr>\n",
       "    <tr>\n",
       "      <th>7523</th>\n",
       "      <td>538.000000</td>\n",
       "      <td>20.390000</td>\n",
       "      <td>33.000000</td>\n",
       "      <td>0.000000</td>\n",
       "    </tr>\n",
       "    <tr>\n",
       "      <th>5590</th>\n",
       "      <td>421.500000</td>\n",
       "      <td>20.290000</td>\n",
       "      <td>26.200000</td>\n",
       "      <td>59.000000</td>\n",
       "    </tr>\n",
       "    <tr>\n",
       "      <th>1787</th>\n",
       "      <td>439.500000</td>\n",
       "      <td>20.340000</td>\n",
       "      <td>21.290000</td>\n",
       "      <td>0.000000</td>\n",
       "    </tr>\n",
       "    <tr>\n",
       "      <th>6150</th>\n",
       "      <td>462.000000</td>\n",
       "      <td>19.500000</td>\n",
       "      <td>27.000000</td>\n",
       "      <td>0.000000</td>\n",
       "    </tr>\n",
       "    <tr>\n",
       "      <th>384</th>\n",
       "      <td>457.000000</td>\n",
       "      <td>21.290000</td>\n",
       "      <td>25.200000</td>\n",
       "      <td>0.000000</td>\n",
       "    </tr>\n",
       "    <tr>\n",
       "      <th>3707</th>\n",
       "      <td>450.000000</td>\n",
       "      <td>19.700000</td>\n",
       "      <td>19.390000</td>\n",
       "      <td>0.000000</td>\n",
       "    </tr>\n",
       "    <tr>\n",
       "      <th>4708</th>\n",
       "      <td>437.000000</td>\n",
       "      <td>19.600000</td>\n",
       "      <td>29.550000</td>\n",
       "      <td>0.000000</td>\n",
       "    </tr>\n",
       "    <tr>\n",
       "      <th>4256</th>\n",
       "      <td>436.750000</td>\n",
       "      <td>20.722500</td>\n",
       "      <td>20.245000</td>\n",
       "      <td>14.000000</td>\n",
       "    </tr>\n",
       "    <tr>\n",
       "      <th>1359</th>\n",
       "      <td>1063.250000</td>\n",
       "      <td>22.390000</td>\n",
       "      <td>26.456000</td>\n",
       "      <td>438.000000</td>\n",
       "    </tr>\n",
       "    <tr>\n",
       "      <th>8073</th>\n",
       "      <td>451.500000</td>\n",
       "      <td>20.290000</td>\n",
       "      <td>33.145000</td>\n",
       "      <td>0.000000</td>\n",
       "    </tr>\n",
       "    <tr>\n",
       "      <th>1501</th>\n",
       "      <td>640.000000</td>\n",
       "      <td>21.290000</td>\n",
       "      <td>22.100000</td>\n",
       "      <td>0.000000</td>\n",
       "    </tr>\n",
       "    <tr>\n",
       "      <th>...</th>\n",
       "      <td>...</td>\n",
       "      <td>...</td>\n",
       "      <td>...</td>\n",
       "      <td>...</td>\n",
       "    </tr>\n",
       "    <tr>\n",
       "      <th>6217</th>\n",
       "      <td>466.500000</td>\n",
       "      <td>19.390000</td>\n",
       "      <td>27.200000</td>\n",
       "      <td>0.000000</td>\n",
       "    </tr>\n",
       "    <tr>\n",
       "      <th>2894</th>\n",
       "      <td>772.000000</td>\n",
       "      <td>21.700000</td>\n",
       "      <td>20.840000</td>\n",
       "      <td>433.000000</td>\n",
       "    </tr>\n",
       "    <tr>\n",
       "      <th>538</th>\n",
       "      <td>435.500000</td>\n",
       "      <td>21.050000</td>\n",
       "      <td>24.840000</td>\n",
       "      <td>0.000000</td>\n",
       "    </tr>\n",
       "    <tr>\n",
       "      <th>1702</th>\n",
       "      <td>458.500000</td>\n",
       "      <td>20.600000</td>\n",
       "      <td>20.745000</td>\n",
       "      <td>0.000000</td>\n",
       "    </tr>\n",
       "    <tr>\n",
       "      <th>2898</th>\n",
       "      <td>781.250000</td>\n",
       "      <td>21.675000</td>\n",
       "      <td>20.972500</td>\n",
       "      <td>0.000000</td>\n",
       "    </tr>\n",
       "    <tr>\n",
       "      <th>7769</th>\n",
       "      <td>454.500000</td>\n",
       "      <td>20.200000</td>\n",
       "      <td>32.900000</td>\n",
       "      <td>0.000000</td>\n",
       "    </tr>\n",
       "    <tr>\n",
       "      <th>2223</th>\n",
       "      <td>432.000000</td>\n",
       "      <td>20.200000</td>\n",
       "      <td>18.600000</td>\n",
       "      <td>0.000000</td>\n",
       "    </tr>\n",
       "    <tr>\n",
       "      <th>2136</th>\n",
       "      <td>433.000000</td>\n",
       "      <td>20.390000</td>\n",
       "      <td>18.700000</td>\n",
       "      <td>0.000000</td>\n",
       "    </tr>\n",
       "    <tr>\n",
       "      <th>2600</th>\n",
       "      <td>701.000000</td>\n",
       "      <td>21.390000</td>\n",
       "      <td>19.890000</td>\n",
       "      <td>52.333333</td>\n",
       "    </tr>\n",
       "    <tr>\n",
       "      <th>7655</th>\n",
       "      <td>469.000000</td>\n",
       "      <td>20.245000</td>\n",
       "      <td>32.900000</td>\n",
       "      <td>0.000000</td>\n",
       "    </tr>\n",
       "    <tr>\n",
       "      <th>706</th>\n",
       "      <td>448.500000</td>\n",
       "      <td>20.890000</td>\n",
       "      <td>23.445000</td>\n",
       "      <td>0.000000</td>\n",
       "    </tr>\n",
       "    <tr>\n",
       "      <th>6459</th>\n",
       "      <td>461.500000</td>\n",
       "      <td>19.500000</td>\n",
       "      <td>26.700000</td>\n",
       "      <td>0.000000</td>\n",
       "    </tr>\n",
       "    <tr>\n",
       "      <th>3469</th>\n",
       "      <td>438.000000</td>\n",
       "      <td>19.790000</td>\n",
       "      <td>19.200000</td>\n",
       "      <td>0.000000</td>\n",
       "    </tr>\n",
       "    <tr>\n",
       "      <th>6745</th>\n",
       "      <td>1142.500000</td>\n",
       "      <td>20.790000</td>\n",
       "      <td>31.895000</td>\n",
       "      <td>429.000000</td>\n",
       "    </tr>\n",
       "    <tr>\n",
       "      <th>7641</th>\n",
       "      <td>469.000000</td>\n",
       "      <td>20.290000</td>\n",
       "      <td>32.966667</td>\n",
       "      <td>0.000000</td>\n",
       "    </tr>\n",
       "    <tr>\n",
       "      <th>7239</th>\n",
       "      <td>1534.250000</td>\n",
       "      <td>21.600000</td>\n",
       "      <td>36.925000</td>\n",
       "      <td>0.000000</td>\n",
       "    </tr>\n",
       "    <tr>\n",
       "      <th>6744</th>\n",
       "      <td>1136.000000</td>\n",
       "      <td>20.745000</td>\n",
       "      <td>31.895000</td>\n",
       "      <td>433.500000</td>\n",
       "    </tr>\n",
       "    <tr>\n",
       "      <th>5925</th>\n",
       "      <td>442.000000</td>\n",
       "      <td>19.390000</td>\n",
       "      <td>27.390000</td>\n",
       "      <td>0.000000</td>\n",
       "    </tr>\n",
       "    <tr>\n",
       "      <th>5875</th>\n",
       "      <td>437.000000</td>\n",
       "      <td>19.290000</td>\n",
       "      <td>27.700000</td>\n",
       "      <td>0.000000</td>\n",
       "    </tr>\n",
       "    <tr>\n",
       "      <th>4374</th>\n",
       "      <td>437.000000</td>\n",
       "      <td>20.200000</td>\n",
       "      <td>23.000000</td>\n",
       "      <td>0.000000</td>\n",
       "    </tr>\n",
       "    <tr>\n",
       "      <th>7892</th>\n",
       "      <td>449.000000</td>\n",
       "      <td>20.200000</td>\n",
       "      <td>33.000000</td>\n",
       "      <td>0.000000</td>\n",
       "    </tr>\n",
       "    <tr>\n",
       "      <th>1034</th>\n",
       "      <td>1063.500000</td>\n",
       "      <td>22.100000</td>\n",
       "      <td>26.500000</td>\n",
       "      <td>464.000000</td>\n",
       "    </tr>\n",
       "    <tr>\n",
       "      <th>7528</th>\n",
       "      <td>527.000000</td>\n",
       "      <td>20.390000</td>\n",
       "      <td>32.900000</td>\n",
       "      <td>0.000000</td>\n",
       "    </tr>\n",
       "    <tr>\n",
       "      <th>5828</th>\n",
       "      <td>429.500000</td>\n",
       "      <td>19.200000</td>\n",
       "      <td>27.600000</td>\n",
       "      <td>0.000000</td>\n",
       "    </tr>\n",
       "    <tr>\n",
       "      <th>4860</th>\n",
       "      <td>439.000000</td>\n",
       "      <td>19.390000</td>\n",
       "      <td>31.000000</td>\n",
       "      <td>0.000000</td>\n",
       "    </tr>\n",
       "    <tr>\n",
       "      <th>4932</th>\n",
       "      <td>433.000000</td>\n",
       "      <td>19.390000</td>\n",
       "      <td>31.200000</td>\n",
       "      <td>0.000000</td>\n",
       "    </tr>\n",
       "    <tr>\n",
       "      <th>3265</th>\n",
       "      <td>435.000000</td>\n",
       "      <td>20.000000</td>\n",
       "      <td>18.745000</td>\n",
       "      <td>0.000000</td>\n",
       "    </tr>\n",
       "    <tr>\n",
       "      <th>1654</th>\n",
       "      <td>469.666667</td>\n",
       "      <td>20.890000</td>\n",
       "      <td>20.000000</td>\n",
       "      <td>0.000000</td>\n",
       "    </tr>\n",
       "    <tr>\n",
       "      <th>2608</th>\n",
       "      <td>660.000000</td>\n",
       "      <td>21.290000</td>\n",
       "      <td>19.700000</td>\n",
       "      <td>440.000000</td>\n",
       "    </tr>\n",
       "    <tr>\n",
       "      <th>2733</th>\n",
       "      <td>914.000000</td>\n",
       "      <td>22.100000</td>\n",
       "      <td>21.840000</td>\n",
       "      <td>499.000000</td>\n",
       "    </tr>\n",
       "  </tbody>\n",
       "</table>\n",
       "<p>4885 rows × 4 columns</p>\n",
       "</div>"
      ],
      "text/plain": [
       "              CO2  Temperature   Humidity       Light\n",
       "650    440.000000    21.000000  24.000000    0.000000\n",
       "6473   464.333333    19.426667  26.856667    0.000000\n",
       "6711   921.500000    20.472500  30.917500  433.000000\n",
       "1582   484.500000    21.200000  19.290000    0.000000\n",
       "1959   438.500000    20.550000  19.445000    0.000000\n",
       "3978   455.250000    22.890000  17.650000  342.750000\n",
       "3702   446.000000    19.650000  19.340000    0.000000\n",
       "1286  1102.500000    22.600000  28.390000  489.000000\n",
       "5380   435.500000    19.100000  30.890000   13.000000\n",
       "7833   447.250000    20.100000  33.000000    0.000000\n",
       "690    449.000000    20.945000  23.500000    0.000000\n",
       "3428   435.000000    19.890000  19.000000    0.000000\n",
       "3168   441.500000    20.050000  18.890000    0.000000\n",
       "4763   438.000000    19.500000  30.200000    0.000000\n",
       "4236   439.500000    20.890000  19.790000    6.000000\n",
       "4009   453.500000    23.100000  17.290000  310.500000\n",
       "4509   444.000000    19.890000  26.290000    0.000000\n",
       "539    437.333333    21.066667  24.856667    0.000000\n",
       "640    441.500000    20.890000  24.200000    0.000000\n",
       "7523   538.000000    20.390000  33.000000    0.000000\n",
       "5590   421.500000    20.290000  26.200000   59.000000\n",
       "1787   439.500000    20.340000  21.290000    0.000000\n",
       "6150   462.000000    19.500000  27.000000    0.000000\n",
       "384    457.000000    21.290000  25.200000    0.000000\n",
       "3707   450.000000    19.700000  19.390000    0.000000\n",
       "4708   437.000000    19.600000  29.550000    0.000000\n",
       "4256   436.750000    20.722500  20.245000   14.000000\n",
       "1359  1063.250000    22.390000  26.456000  438.000000\n",
       "8073   451.500000    20.290000  33.145000    0.000000\n",
       "1501   640.000000    21.290000  22.100000    0.000000\n",
       "...           ...          ...        ...         ...\n",
       "6217   466.500000    19.390000  27.200000    0.000000\n",
       "2894   772.000000    21.700000  20.840000  433.000000\n",
       "538    435.500000    21.050000  24.840000    0.000000\n",
       "1702   458.500000    20.600000  20.745000    0.000000\n",
       "2898   781.250000    21.675000  20.972500    0.000000\n",
       "7769   454.500000    20.200000  32.900000    0.000000\n",
       "2223   432.000000    20.200000  18.600000    0.000000\n",
       "2136   433.000000    20.390000  18.700000    0.000000\n",
       "2600   701.000000    21.390000  19.890000   52.333333\n",
       "7655   469.000000    20.245000  32.900000    0.000000\n",
       "706    448.500000    20.890000  23.445000    0.000000\n",
       "6459   461.500000    19.500000  26.700000    0.000000\n",
       "3469   438.000000    19.790000  19.200000    0.000000\n",
       "6745  1142.500000    20.790000  31.895000  429.000000\n",
       "7641   469.000000    20.290000  32.966667    0.000000\n",
       "7239  1534.250000    21.600000  36.925000    0.000000\n",
       "6744  1136.000000    20.745000  31.895000  433.500000\n",
       "5925   442.000000    19.390000  27.390000    0.000000\n",
       "5875   437.000000    19.290000  27.700000    0.000000\n",
       "4374   437.000000    20.200000  23.000000    0.000000\n",
       "7892   449.000000    20.200000  33.000000    0.000000\n",
       "1034  1063.500000    22.100000  26.500000  464.000000\n",
       "7528   527.000000    20.390000  32.900000    0.000000\n",
       "5828   429.500000    19.200000  27.600000    0.000000\n",
       "4860   439.000000    19.390000  31.000000    0.000000\n",
       "4932   433.000000    19.390000  31.200000    0.000000\n",
       "3265   435.000000    20.000000  18.745000    0.000000\n",
       "1654   469.666667    20.890000  20.000000    0.000000\n",
       "2608   660.000000    21.290000  19.700000  440.000000\n",
       "2733   914.000000    22.100000  21.840000  499.000000\n",
       "\n",
       "[4885 rows x 4 columns]"
      ]
     },
     "execution_count": 58,
     "metadata": {},
     "output_type": "execute_result"
    }
   ],
   "source": [
    "X_train"
   ]
  },
  {
   "cell_type": "code",
   "execution_count": 59,
   "metadata": {},
   "outputs": [
    {
     "data": {
      "text/plain": [
       "(4885, 4)"
      ]
     },
     "execution_count": 59,
     "metadata": {},
     "output_type": "execute_result"
    }
   ],
   "source": [
    "X_train.shape"
   ]
  },
  {
   "cell_type": "code",
   "execution_count": 60,
   "metadata": {
    "scrolled": true
   },
   "outputs": [
    {
     "data": {
      "text/plain": [
       "650     0\n",
       "6473    0\n",
       "6711    1\n",
       "1582    0\n",
       "1959    0\n",
       "3978    0\n",
       "3702    0\n",
       "1286    1\n",
       "5380    0\n",
       "7833    0\n",
       "690     0\n",
       "3428    0\n",
       "3168    0\n",
       "4763    0\n",
       "4236    0\n",
       "4009    0\n",
       "4509    0\n",
       "539     0\n",
       "640     0\n",
       "7523    0\n",
       "5590    0\n",
       "1787    0\n",
       "6150    0\n",
       "384     0\n",
       "3707    0\n",
       "4708    0\n",
       "4256    0\n",
       "1359    1\n",
       "8073    0\n",
       "1501    0\n",
       "       ..\n",
       "6217    0\n",
       "2894    1\n",
       "538     0\n",
       "1702    0\n",
       "2898    0\n",
       "7769    0\n",
       "2223    0\n",
       "2136    0\n",
       "2600    0\n",
       "7655    0\n",
       "706     0\n",
       "6459    0\n",
       "3469    0\n",
       "6745    1\n",
       "7641    0\n",
       "7239    0\n",
       "6744    1\n",
       "5925    0\n",
       "5875    0\n",
       "4374    0\n",
       "7892    0\n",
       "1034    1\n",
       "7528    0\n",
       "5828    0\n",
       "4860    0\n",
       "4932    0\n",
       "3265    0\n",
       "1654    0\n",
       "2608    1\n",
       "2733    1\n",
       "Name: Occupancy, Length: 4885, dtype: int64"
      ]
     },
     "execution_count": 60,
     "metadata": {},
     "output_type": "execute_result"
    }
   ],
   "source": [
    "y_train"
   ]
  },
  {
   "cell_type": "code",
   "execution_count": 61,
   "metadata": {},
   "outputs": [
    {
     "data": {
      "text/plain": [
       "(4885,)"
      ]
     },
     "execution_count": 61,
     "metadata": {},
     "output_type": "execute_result"
    }
   ],
   "source": [
    "y_train.shape"
   ]
  },
  {
   "cell_type": "code",
   "execution_count": 62,
   "metadata": {},
   "outputs": [
    {
     "data": {
      "text/plain": [
       "array([1, 1, 0, ..., 0, 0, 0])"
      ]
     },
     "execution_count": 62,
     "metadata": {},
     "output_type": "execute_result"
    }
   ],
   "source": [
    "from sklearn.tree import DecisionTreeClassifier\n",
    "clf = DecisionTreeClassifier()\n",
    "fit = clf.fit(X_train, y_train)\n",
    "y_pre = fit.predict(X_test)\n",
    "y_pre"
   ]
  },
  {
   "cell_type": "code",
   "execution_count": 63,
   "metadata": {},
   "outputs": [
    {
     "data": {
      "text/plain": [
       "(3258,)"
      ]
     },
     "execution_count": 63,
     "metadata": {},
     "output_type": "execute_result"
    }
   ],
   "source": [
    "y_pre.shape"
   ]
  },
  {
   "cell_type": "code",
   "execution_count": 64,
   "metadata": {},
   "outputs": [
    {
     "name": "stdout",
     "output_type": "stream",
     "text": [
      "[[2521   21]\n",
      " [  15  701]]\n"
     ]
    }
   ],
   "source": [
    "from sklearn.metrics import confusion_matrix\n",
    "cm = confusion_matrix(y_test, y_pre)\n",
    "print cm"
   ]
  },
  {
   "cell_type": "code",
   "execution_count": 65,
   "metadata": {},
   "outputs": [
    {
     "name": "stdout",
     "output_type": "stream",
     "text": [
      "              precision    recall  f1-score   support\n",
      "\n",
      "           0       0.99      0.99      0.99      2542\n",
      "           1       0.97      0.98      0.97       716\n",
      "\n",
      "   micro avg       0.99      0.99      0.99      3258\n",
      "   macro avg       0.98      0.99      0.98      3258\n",
      "weighted avg       0.99      0.99      0.99      3258\n",
      "\n"
     ]
    }
   ],
   "source": [
    "from sklearn.metrics import classification_report\n",
    "print classification_report(y_test,y_pre)"
   ]
  },
  {
   "cell_type": "code",
   "execution_count": 66,
   "metadata": {},
   "outputs": [],
   "source": [
    "initial_array = np.ones(shape = (2,2))\n",
    "\n",
    "# Create array of arrays\n",
    "array_of_arrays = np.ndarray(shape = (1,), dtype = \"object\")\n",
    "array_of_arrays[0] = initial_array"
   ]
  },
  {
   "cell_type": "code",
   "execution_count": 67,
   "metadata": {},
   "outputs": [
    {
     "data": {
      "text/plain": [
       "numpy.ndarray"
      ]
     },
     "execution_count": 67,
     "metadata": {},
     "output_type": "execute_result"
    }
   ],
   "source": [
    "#Create arrays 'feature_names' and 'target_names' which can be used by the graphviz program\n",
    "Ofeature_names = np.array([\"CO2\", \"Temperature\", \"Humidity\", \"Light\"])\n",
    "Ofeature_names\n",
    "type(Ofeature_names)"
   ]
  },
  {
   "cell_type": "code",
   "execution_count": 68,
   "metadata": {},
   "outputs": [],
   "source": [
    "Otarget_names = np.array([\"not occupied\", \"occupied\"])"
   ]
  },
  {
   "cell_type": "code",
   "execution_count": 69,
   "metadata": {},
   "outputs": [],
   "source": [
    "from sklearn import tree\n",
    "with open('Occupancy.dot','w') as f: f = tree.export_graphviz(clf, out_file=f, feature_names = Ofeature_names, class_names = Otarget_names, filled=True, rounded =True, special_characters=True)"
   ]
  },
  {
   "cell_type": "markdown",
   "metadata": {},
   "source": [
    "# Data Model - K nearest neighbours:"
   ]
  },
  {
   "cell_type": "code",
   "execution_count": null,
   "metadata": {},
   "outputs": [],
   "source": [
    "X_train2, X_test2, y_train2, y_test2 = "
   ]
  }
 ],
 "metadata": {
  "kernelspec": {
   "display_name": "Python 2",
   "language": "python",
   "name": "python2"
  },
  "language_info": {
   "codemirror_mode": {
    "name": "ipython",
    "version": 2
   },
   "file_extension": ".py",
   "mimetype": "text/x-python",
   "name": "python",
   "nbconvert_exporter": "python",
   "pygments_lexer": "ipython2",
   "version": "2.7.15"
  }
 },
 "nbformat": 4,
 "nbformat_minor": 2
}
